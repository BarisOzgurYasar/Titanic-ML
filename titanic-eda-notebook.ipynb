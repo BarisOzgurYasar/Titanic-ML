{
 "cells": [
  {
   "cell_type": "markdown",
   "id": "3d24a9cc",
   "metadata": {
    "papermill": {
     "duration": 0.004156,
     "end_time": "2024-11-22T16:50:49.073876",
     "exception": false,
     "start_time": "2024-11-22T16:50:49.069720",
     "status": "completed"
    },
    "tags": []
   },
   "source": [
    "# Introduction\n",
    "\n",
    "The sinking of Titanic is one of the most notorious shipwrecks in the history. In 1912, during her voyage, the Titanic sank after colliding with an iceberg, killing 1502 out of 2224 passsengers and crew.\n",
    "\n",
    "<font color= \"blue\">\n",
    "Content:\n",
    "    \n",
    "1. [Load and Check Data](#1)\n",
    "2. [Variable Description](#2)\n",
    "   * [Univariate Variable Ananlysis](#3)\n",
    "       * [Categorical Variable Ananlysis](#4)\n",
    "       * [Numerical Variable Ananlysis](#5)"
   ]
  },
  {
   "cell_type": "code",
   "execution_count": 1,
   "id": "a86a1fb4",
   "metadata": {
    "_cell_guid": "b1076dfc-b9ad-4769-8c92-a6c4dae69d19",
    "_uuid": "8f2839f25d086af736a60e9eeb907d3b93b6e0e5",
    "execution": {
     "iopub.execute_input": "2024-11-22T16:50:49.083146Z",
     "iopub.status.busy": "2024-11-22T16:50:49.082752Z",
     "iopub.status.idle": "2024-11-22T16:50:51.996163Z",
     "shell.execute_reply": "2024-11-22T16:50:51.994689Z"
    },
    "papermill": {
     "duration": 2.921409,
     "end_time": "2024-11-22T16:50:51.999147",
     "exception": false,
     "start_time": "2024-11-22T16:50:49.077738",
     "status": "completed"
    },
    "tags": []
   },
   "outputs": [
    {
     "name": "stdout",
     "output_type": "stream",
     "text": [
      "/kaggle/input/titanic/train.csv\n",
      "/kaggle/input/titanic/test.csv\n",
      "/kaggle/input/titanic/gender_submission.csv\n"
     ]
    }
   ],
   "source": [
    "# This Python 3 environment comes with many helpful analytics libraries installed\n",
    "# It is defined by the kaggle/python Docker image: https://github.com/kaggle/docker-python\n",
    "# For example, here's several helpful packages to load\n",
    "\n",
    "import numpy as np # linear algebra\n",
    "import pandas as pd # data processing, CSV file I/O (e.g. pd.read_csv)\n",
    "import matplotlib.pyplot as plt\n",
    "plt.style.use('seaborn-v0_8-whitegrid')\n",
    "import seaborn as sns \n",
    "from collections import Counter\n",
    "import warnings\n",
    "warnings.filterwarnings('ignore')\n",
    "\n",
    "# Input data files are available in the read-only \"../input/\" directory\n",
    "# For example, running this (by clicking run or pressing Shift+Enter) will list all files under the input directory\n",
    "\n",
    "import os\n",
    "for dirname, _, filenames in os.walk('/kaggle/input'):\n",
    "    for filename in filenames:\n",
    "        print(os.path.join(dirname, filename))\n",
    "\n",
    "# You can write up to 20GB to the current directory (/kaggle/working/) that gets preserved as output when you create a version using \"Save & Run All\" \n",
    "# You can also write temporary files to /kaggle/temp/, but they won't be saved outside of the current session"
   ]
  },
  {
   "cell_type": "markdown",
   "id": "df694b6c",
   "metadata": {
    "papermill": {
     "duration": 0.00369,
     "end_time": "2024-11-22T16:50:52.007293",
     "exception": false,
     "start_time": "2024-11-22T16:50:52.003603",
     "status": "completed"
    },
    "tags": []
   },
   "source": [
    "<a id=\"1\"></a>\n",
    "# Load and Check Data"
   ]
  },
  {
   "cell_type": "code",
   "execution_count": 2,
   "id": "87c94069",
   "metadata": {
    "execution": {
     "iopub.execute_input": "2024-11-22T16:50:52.016560Z",
     "iopub.status.busy": "2024-11-22T16:50:52.016027Z",
     "iopub.status.idle": "2024-11-22T16:50:52.054393Z",
     "shell.execute_reply": "2024-11-22T16:50:52.053037Z"
    },
    "papermill": {
     "duration": 0.046047,
     "end_time": "2024-11-22T16:50:52.057070",
     "exception": false,
     "start_time": "2024-11-22T16:50:52.011023",
     "status": "completed"
    },
    "tags": []
   },
   "outputs": [],
   "source": [
    "train_df = pd.read_csv(\"/kaggle/input/titanic/train.csv\")\n",
    "test_df = pd.read_csv(\"/kaggle/input/titanic/test.csv\")\n",
    "test_PassengerId = test_df[\"PassengerId\"]"
   ]
  },
  {
   "cell_type": "code",
   "execution_count": 3,
   "id": "095a7952",
   "metadata": {
    "execution": {
     "iopub.execute_input": "2024-11-22T16:50:52.066158Z",
     "iopub.status.busy": "2024-11-22T16:50:52.065799Z",
     "iopub.status.idle": "2024-11-22T16:50:52.074138Z",
     "shell.execute_reply": "2024-11-22T16:50:52.072847Z"
    },
    "papermill": {
     "duration": 0.015873,
     "end_time": "2024-11-22T16:50:52.076745",
     "exception": false,
     "start_time": "2024-11-22T16:50:52.060872",
     "status": "completed"
    },
    "tags": []
   },
   "outputs": [
    {
     "data": {
      "text/plain": [
       "Index(['PassengerId', 'Survived', 'Pclass', 'Name', 'Sex', 'Age', 'SibSp',\n",
       "       'Parch', 'Ticket', 'Fare', 'Cabin', 'Embarked'],\n",
       "      dtype='object')"
      ]
     },
     "execution_count": 3,
     "metadata": {},
     "output_type": "execute_result"
    }
   ],
   "source": [
    "train_df.columns\n"
   ]
  },
  {
   "cell_type": "code",
   "execution_count": 4,
   "id": "78839a2a",
   "metadata": {
    "execution": {
     "iopub.execute_input": "2024-11-22T16:50:52.086154Z",
     "iopub.status.busy": "2024-11-22T16:50:52.085787Z",
     "iopub.status.idle": "2024-11-22T16:50:52.108497Z",
     "shell.execute_reply": "2024-11-22T16:50:52.107251Z"
    },
    "papermill": {
     "duration": 0.030694,
     "end_time": "2024-11-22T16:50:52.111273",
     "exception": false,
     "start_time": "2024-11-22T16:50:52.080579",
     "status": "completed"
    },
    "tags": []
   },
   "outputs": [
    {
     "data": {
      "text/html": [
       "<div>\n",
       "<style scoped>\n",
       "    .dataframe tbody tr th:only-of-type {\n",
       "        vertical-align: middle;\n",
       "    }\n",
       "\n",
       "    .dataframe tbody tr th {\n",
       "        vertical-align: top;\n",
       "    }\n",
       "\n",
       "    .dataframe thead th {\n",
       "        text-align: right;\n",
       "    }\n",
       "</style>\n",
       "<table border=\"1\" class=\"dataframe\">\n",
       "  <thead>\n",
       "    <tr style=\"text-align: right;\">\n",
       "      <th></th>\n",
       "      <th>PassengerId</th>\n",
       "      <th>Survived</th>\n",
       "      <th>Pclass</th>\n",
       "      <th>Name</th>\n",
       "      <th>Sex</th>\n",
       "      <th>Age</th>\n",
       "      <th>SibSp</th>\n",
       "      <th>Parch</th>\n",
       "      <th>Ticket</th>\n",
       "      <th>Fare</th>\n",
       "      <th>Cabin</th>\n",
       "      <th>Embarked</th>\n",
       "    </tr>\n",
       "  </thead>\n",
       "  <tbody>\n",
       "    <tr>\n",
       "      <th>0</th>\n",
       "      <td>1</td>\n",
       "      <td>0</td>\n",
       "      <td>3</td>\n",
       "      <td>Braund, Mr. Owen Harris</td>\n",
       "      <td>male</td>\n",
       "      <td>22.0</td>\n",
       "      <td>1</td>\n",
       "      <td>0</td>\n",
       "      <td>A/5 21171</td>\n",
       "      <td>7.2500</td>\n",
       "      <td>NaN</td>\n",
       "      <td>S</td>\n",
       "    </tr>\n",
       "    <tr>\n",
       "      <th>1</th>\n",
       "      <td>2</td>\n",
       "      <td>1</td>\n",
       "      <td>1</td>\n",
       "      <td>Cumings, Mrs. John Bradley (Florence Briggs Th...</td>\n",
       "      <td>female</td>\n",
       "      <td>38.0</td>\n",
       "      <td>1</td>\n",
       "      <td>0</td>\n",
       "      <td>PC 17599</td>\n",
       "      <td>71.2833</td>\n",
       "      <td>C85</td>\n",
       "      <td>C</td>\n",
       "    </tr>\n",
       "    <tr>\n",
       "      <th>2</th>\n",
       "      <td>3</td>\n",
       "      <td>1</td>\n",
       "      <td>3</td>\n",
       "      <td>Heikkinen, Miss. Laina</td>\n",
       "      <td>female</td>\n",
       "      <td>26.0</td>\n",
       "      <td>0</td>\n",
       "      <td>0</td>\n",
       "      <td>STON/O2. 3101282</td>\n",
       "      <td>7.9250</td>\n",
       "      <td>NaN</td>\n",
       "      <td>S</td>\n",
       "    </tr>\n",
       "    <tr>\n",
       "      <th>3</th>\n",
       "      <td>4</td>\n",
       "      <td>1</td>\n",
       "      <td>1</td>\n",
       "      <td>Futrelle, Mrs. Jacques Heath (Lily May Peel)</td>\n",
       "      <td>female</td>\n",
       "      <td>35.0</td>\n",
       "      <td>1</td>\n",
       "      <td>0</td>\n",
       "      <td>113803</td>\n",
       "      <td>53.1000</td>\n",
       "      <td>C123</td>\n",
       "      <td>S</td>\n",
       "    </tr>\n",
       "    <tr>\n",
       "      <th>4</th>\n",
       "      <td>5</td>\n",
       "      <td>0</td>\n",
       "      <td>3</td>\n",
       "      <td>Allen, Mr. William Henry</td>\n",
       "      <td>male</td>\n",
       "      <td>35.0</td>\n",
       "      <td>0</td>\n",
       "      <td>0</td>\n",
       "      <td>373450</td>\n",
       "      <td>8.0500</td>\n",
       "      <td>NaN</td>\n",
       "      <td>S</td>\n",
       "    </tr>\n",
       "  </tbody>\n",
       "</table>\n",
       "</div>"
      ],
      "text/plain": [
       "   PassengerId  Survived  Pclass  \\\n",
       "0            1         0       3   \n",
       "1            2         1       1   \n",
       "2            3         1       3   \n",
       "3            4         1       1   \n",
       "4            5         0       3   \n",
       "\n",
       "                                                Name     Sex   Age  SibSp  \\\n",
       "0                            Braund, Mr. Owen Harris    male  22.0      1   \n",
       "1  Cumings, Mrs. John Bradley (Florence Briggs Th...  female  38.0      1   \n",
       "2                             Heikkinen, Miss. Laina  female  26.0      0   \n",
       "3       Futrelle, Mrs. Jacques Heath (Lily May Peel)  female  35.0      1   \n",
       "4                           Allen, Mr. William Henry    male  35.0      0   \n",
       "\n",
       "   Parch            Ticket     Fare Cabin Embarked  \n",
       "0      0         A/5 21171   7.2500   NaN        S  \n",
       "1      0          PC 17599  71.2833   C85        C  \n",
       "2      0  STON/O2. 3101282   7.9250   NaN        S  \n",
       "3      0            113803  53.1000  C123        S  \n",
       "4      0            373450   8.0500   NaN        S  "
      ]
     },
     "execution_count": 4,
     "metadata": {},
     "output_type": "execute_result"
    }
   ],
   "source": [
    "train_df.head()"
   ]
  },
  {
   "cell_type": "code",
   "execution_count": 5,
   "id": "bf674a11",
   "metadata": {
    "execution": {
     "iopub.execute_input": "2024-11-22T16:50:52.121771Z",
     "iopub.status.busy": "2024-11-22T16:50:52.121360Z",
     "iopub.status.idle": "2024-11-22T16:50:52.155055Z",
     "shell.execute_reply": "2024-11-22T16:50:52.153588Z"
    },
    "papermill": {
     "duration": 0.042025,
     "end_time": "2024-11-22T16:50:52.157902",
     "exception": false,
     "start_time": "2024-11-22T16:50:52.115877",
     "status": "completed"
    },
    "tags": []
   },
   "outputs": [
    {
     "data": {
      "text/html": [
       "<div>\n",
       "<style scoped>\n",
       "    .dataframe tbody tr th:only-of-type {\n",
       "        vertical-align: middle;\n",
       "    }\n",
       "\n",
       "    .dataframe tbody tr th {\n",
       "        vertical-align: top;\n",
       "    }\n",
       "\n",
       "    .dataframe thead th {\n",
       "        text-align: right;\n",
       "    }\n",
       "</style>\n",
       "<table border=\"1\" class=\"dataframe\">\n",
       "  <thead>\n",
       "    <tr style=\"text-align: right;\">\n",
       "      <th></th>\n",
       "      <th>PassengerId</th>\n",
       "      <th>Survived</th>\n",
       "      <th>Pclass</th>\n",
       "      <th>Age</th>\n",
       "      <th>SibSp</th>\n",
       "      <th>Parch</th>\n",
       "      <th>Fare</th>\n",
       "    </tr>\n",
       "  </thead>\n",
       "  <tbody>\n",
       "    <tr>\n",
       "      <th>count</th>\n",
       "      <td>891.000000</td>\n",
       "      <td>891.000000</td>\n",
       "      <td>891.000000</td>\n",
       "      <td>714.000000</td>\n",
       "      <td>891.000000</td>\n",
       "      <td>891.000000</td>\n",
       "      <td>891.000000</td>\n",
       "    </tr>\n",
       "    <tr>\n",
       "      <th>mean</th>\n",
       "      <td>446.000000</td>\n",
       "      <td>0.383838</td>\n",
       "      <td>2.308642</td>\n",
       "      <td>29.699118</td>\n",
       "      <td>0.523008</td>\n",
       "      <td>0.381594</td>\n",
       "      <td>32.204208</td>\n",
       "    </tr>\n",
       "    <tr>\n",
       "      <th>std</th>\n",
       "      <td>257.353842</td>\n",
       "      <td>0.486592</td>\n",
       "      <td>0.836071</td>\n",
       "      <td>14.526497</td>\n",
       "      <td>1.102743</td>\n",
       "      <td>0.806057</td>\n",
       "      <td>49.693429</td>\n",
       "    </tr>\n",
       "    <tr>\n",
       "      <th>min</th>\n",
       "      <td>1.000000</td>\n",
       "      <td>0.000000</td>\n",
       "      <td>1.000000</td>\n",
       "      <td>0.420000</td>\n",
       "      <td>0.000000</td>\n",
       "      <td>0.000000</td>\n",
       "      <td>0.000000</td>\n",
       "    </tr>\n",
       "    <tr>\n",
       "      <th>25%</th>\n",
       "      <td>223.500000</td>\n",
       "      <td>0.000000</td>\n",
       "      <td>2.000000</td>\n",
       "      <td>20.125000</td>\n",
       "      <td>0.000000</td>\n",
       "      <td>0.000000</td>\n",
       "      <td>7.910400</td>\n",
       "    </tr>\n",
       "    <tr>\n",
       "      <th>50%</th>\n",
       "      <td>446.000000</td>\n",
       "      <td>0.000000</td>\n",
       "      <td>3.000000</td>\n",
       "      <td>28.000000</td>\n",
       "      <td>0.000000</td>\n",
       "      <td>0.000000</td>\n",
       "      <td>14.454200</td>\n",
       "    </tr>\n",
       "    <tr>\n",
       "      <th>75%</th>\n",
       "      <td>668.500000</td>\n",
       "      <td>1.000000</td>\n",
       "      <td>3.000000</td>\n",
       "      <td>38.000000</td>\n",
       "      <td>1.000000</td>\n",
       "      <td>0.000000</td>\n",
       "      <td>31.000000</td>\n",
       "    </tr>\n",
       "    <tr>\n",
       "      <th>max</th>\n",
       "      <td>891.000000</td>\n",
       "      <td>1.000000</td>\n",
       "      <td>3.000000</td>\n",
       "      <td>80.000000</td>\n",
       "      <td>8.000000</td>\n",
       "      <td>6.000000</td>\n",
       "      <td>512.329200</td>\n",
       "    </tr>\n",
       "  </tbody>\n",
       "</table>\n",
       "</div>"
      ],
      "text/plain": [
       "       PassengerId    Survived      Pclass         Age       SibSp  \\\n",
       "count   891.000000  891.000000  891.000000  714.000000  891.000000   \n",
       "mean    446.000000    0.383838    2.308642   29.699118    0.523008   \n",
       "std     257.353842    0.486592    0.836071   14.526497    1.102743   \n",
       "min       1.000000    0.000000    1.000000    0.420000    0.000000   \n",
       "25%     223.500000    0.000000    2.000000   20.125000    0.000000   \n",
       "50%     446.000000    0.000000    3.000000   28.000000    0.000000   \n",
       "75%     668.500000    1.000000    3.000000   38.000000    1.000000   \n",
       "max     891.000000    1.000000    3.000000   80.000000    8.000000   \n",
       "\n",
       "            Parch        Fare  \n",
       "count  891.000000  891.000000  \n",
       "mean     0.381594   32.204208  \n",
       "std      0.806057   49.693429  \n",
       "min      0.000000    0.000000  \n",
       "25%      0.000000    7.910400  \n",
       "50%      0.000000   14.454200  \n",
       "75%      0.000000   31.000000  \n",
       "max      6.000000  512.329200  "
      ]
     },
     "execution_count": 5,
     "metadata": {},
     "output_type": "execute_result"
    }
   ],
   "source": [
    "train_df.describe()"
   ]
  },
  {
   "cell_type": "markdown",
   "id": "9b2b3173",
   "metadata": {
    "papermill": {
     "duration": 0.004037,
     "end_time": "2024-11-22T16:50:52.166283",
     "exception": false,
     "start_time": "2024-11-22T16:50:52.162246",
     "status": "completed"
    },
    "tags": []
   },
   "source": [
    "<a id=\"2\"></a>\n",
    "# Variable Description\n",
    "\n",
    "1. PassengerId: unique id number to each passenger\n",
    "1. Survived: passenger survive(1) or died(0)\n",
    "1. Pclass: passenger class\n",
    "1. Name: name of passenger\n",
    "1. Sex: gender of passenger\n",
    "1. Age: age of passenger\n",
    "1. SibSp: number of siblings/spouses\n",
    "1. Parch: number of parents/childeren\n",
    "1. Ticket: ticket number\n",
    "1. Fare: amount of money spent on ticket\n",
    "1. Cabin: cabin category\n",
    "1. Embarked: port where passenger embarked (C= Cherbourg, Q= Queenstown, S=Southampton)"
   ]
  },
  {
   "cell_type": "code",
   "execution_count": 6,
   "id": "93d3b494",
   "metadata": {
    "execution": {
     "iopub.execute_input": "2024-11-22T16:50:52.178180Z",
     "iopub.status.busy": "2024-11-22T16:50:52.177794Z",
     "iopub.status.idle": "2024-11-22T16:50:52.206214Z",
     "shell.execute_reply": "2024-11-22T16:50:52.204735Z"
    },
    "papermill": {
     "duration": 0.038394,
     "end_time": "2024-11-22T16:50:52.208957",
     "exception": false,
     "start_time": "2024-11-22T16:50:52.170563",
     "status": "completed"
    },
    "tags": []
   },
   "outputs": [
    {
     "name": "stdout",
     "output_type": "stream",
     "text": [
      "<class 'pandas.core.frame.DataFrame'>\n",
      "RangeIndex: 891 entries, 0 to 890\n",
      "Data columns (total 12 columns):\n",
      " #   Column       Non-Null Count  Dtype  \n",
      "---  ------       --------------  -----  \n",
      " 0   PassengerId  891 non-null    int64  \n",
      " 1   Survived     891 non-null    int64  \n",
      " 2   Pclass       891 non-null    int64  \n",
      " 3   Name         891 non-null    object \n",
      " 4   Sex          891 non-null    object \n",
      " 5   Age          714 non-null    float64\n",
      " 6   SibSp        891 non-null    int64  \n",
      " 7   Parch        891 non-null    int64  \n",
      " 8   Ticket       891 non-null    object \n",
      " 9   Fare         891 non-null    float64\n",
      " 10  Cabin        204 non-null    object \n",
      " 11  Embarked     889 non-null    object \n",
      "dtypes: float64(2), int64(5), object(5)\n",
      "memory usage: 83.7+ KB\n"
     ]
    }
   ],
   "source": [
    "train_df.info()"
   ]
  },
  {
   "cell_type": "markdown",
   "id": "4f79b21d",
   "metadata": {
    "papermill": {
     "duration": 0.004153,
     "end_time": "2024-11-22T16:50:52.217760",
     "exception": false,
     "start_time": "2024-11-22T16:50:52.213607",
     "status": "completed"
    },
    "tags": []
   },
   "source": [
    "* float64(2): Fare and age \n",
    "* int64(5): Pclass, sibsp, parch, passengerId and survived\n",
    "* object(5): Cabin, embarked, ticket, name and sex"
   ]
  },
  {
   "cell_type": "markdown",
   "id": "fbbd63b2",
   "metadata": {
    "papermill": {
     "duration": 0.004128,
     "end_time": "2024-11-22T16:50:52.226329",
     "exception": false,
     "start_time": "2024-11-22T16:50:52.222201",
     "status": "completed"
    },
    "tags": []
   },
   "source": [
    "<a id=\"3\"></a>\n",
    "# Univariate Variable Ananlysis\n",
    "\n",
    "* Categorical Variable: Survived, Sex, Pclass, Embarked, Cabin, Name, Ticket, SibSp and Parch\n",
    "  \n",
    "* Numerical Variable: Age, PassengerId and Fare"
   ]
  },
  {
   "cell_type": "markdown",
   "id": "8b95ea83",
   "metadata": {
    "papermill": {
     "duration": 0.004056,
     "end_time": "2024-11-22T16:50:52.234720",
     "exception": false,
     "start_time": "2024-11-22T16:50:52.230664",
     "status": "completed"
    },
    "tags": []
   },
   "source": [
    "<a id=\"4\"></a>\n",
    "## Categorical Variable\n"
   ]
  },
  {
   "cell_type": "code",
   "execution_count": 7,
   "id": "b94b8041",
   "metadata": {
    "execution": {
     "iopub.execute_input": "2024-11-22T16:50:52.245240Z",
     "iopub.status.busy": "2024-11-22T16:50:52.244876Z",
     "iopub.status.idle": "2024-11-22T16:50:52.253762Z",
     "shell.execute_reply": "2024-11-22T16:50:52.252092Z"
    },
    "papermill": {
     "duration": 0.017607,
     "end_time": "2024-11-22T16:50:52.256618",
     "exception": false,
     "start_time": "2024-11-22T16:50:52.239011",
     "status": "completed"
    },
    "tags": []
   },
   "outputs": [],
   "source": [
    "def bar_plot(variable):\n",
    "    \"\"\"\n",
    "        input: variable ex: \"Sex\"\n",
    "        output: bar plot & value count\n",
    "    \"\"\"\n",
    "    # get feature\n",
    "    var= train_df[variable]\n",
    "    #count number of categorical variable(value/sample)\n",
    "    varValue= var.value_counts()\n",
    "\n",
    "    #visualize\n",
    "    plt.figure(figsize =(9,3))\n",
    "    plt.bar(varValue.index, varValue)\n",
    "    plt.xticks(varValue.index, varValue.index.values)\n",
    "    plt.ylabel(\"Frequency\")\n",
    "    plt.title(variable)\n",
    "    plt.show()\n",
    "    print(\"{}: \\n {}\".format(variable,varValue))"
   ]
  },
  {
   "cell_type": "code",
   "execution_count": 8,
   "id": "7d97865e",
   "metadata": {
    "execution": {
     "iopub.execute_input": "2024-11-22T16:50:52.267145Z",
     "iopub.status.busy": "2024-11-22T16:50:52.266742Z",
     "iopub.status.idle": "2024-11-22T16:50:53.734768Z",
     "shell.execute_reply": "2024-11-22T16:50:53.733349Z"
    },
    "papermill": {
     "duration": 1.476158,
     "end_time": "2024-11-22T16:50:53.737166",
     "exception": false,
     "start_time": "2024-11-22T16:50:52.261008",
     "status": "completed"
    },
    "tags": []
   },
   "outputs": [
    {
     "data": {
      "image/png": "[encoded data removed]",
      "text/plain": [
       "<Figure size 900x300 with 1 Axes>"
      ]
     },
     "metadata": {},
     "output_type": "display_data"
    },
    {
     "name": "stdout",
     "output_type": "stream",
     "text": [
      "Survived: \n",
      " Survived\n",
      "0    549\n",
      "1    342\n",
      "Name: count, dtype: int64\n"
     ]
    },
    {
     "data": {
      "image/png": "[encoded data removed]",
      "text/plain": [
       "<Figure size 900x300 with 1 Axes>"
      ]
     },
     "metadata": {},
     "output_type": "display_data"
    },
    {
     "name": "stdout",
     "output_type": "stream",
     "text": [
      "Sex: \n",
      " Sex\n",
      "male      577\n",
      "female    314\n",
      "Name: count, dtype: int64\n"
     ]
    },
    {
     "data": {
      "image/png": "[encoded data removed]",
      "text/plain": [
       "<Figure size 900x300 with 1 Axes>"
      ]
     },
     "metadata": {},
     "output_type": "display_data"
    },
    {
     "name": "stdout",
     "output_type": "stream",
     "text": [
      "Pclass: \n",
      " Pclass\n",
      "3    491\n",
      "1    216\n",
      "2    184\n",
      "Name: count, dtype: int64\n"
     ]
    },
    {
     "data": {
      "image/png": "[encoded data removed]",
      "text/plain": [
       "<Figure size 900x300 with 1 Axes>"
      ]
     },
     "metadata": {},
     "output_type": "display_data"
    },
    {
     "name": "stdout",
     "output_type": "stream",
     "text": [
      "Embarked: \n",
      " Embarked\n",
      "S    644\n",
      "C    168\n",
      "Q     77\n",
      "Name: count, dtype: int64\n"
     ]
    },
    {
     "data": {
      "image/png": "[encoded data removed]",
      "text/plain": [
       "<Figure size 900x300 with 1 Axes>"
      ]
     },
     "metadata": {},
     "output_type": "display_data"
    },
    {
     "name": "stdout",
     "output_type": "stream",
     "text": [
      "SibSp: \n",
      " SibSp\n",
      "0    608\n",
      "1    209\n",
      "2     28\n",
      "4     18\n",
      "3     16\n",
      "8      7\n",
      "5      5\n",
      "Name: count, dtype: int64\n"
     ]
    },
    {
     "data": {
      "image/png": "[encoded data removed]",
      "text/plain": [
       "<Figure size 900x300 with 1 Axes>"
      ]
     },
     "metadata": {},
     "output_type": "display_data"
    },
    {
     "name": "stdout",
     "output_type": "stream",
     "text": [
      "Parch: \n",
      " Parch\n",
      "0    678\n",
      "1    118\n",
      "2     80\n",
      "5      5\n",
      "3      5\n",
      "4      4\n",
      "6      1\n",
      "Name: count, dtype: int64\n"
     ]
    }
   ],
   "source": [
    "category1= [\"Survived\", \"Sex\", \"Pclass\", \"Embarked\", \"SibSp\", \"Parch\"]\n",
    "for c in category1:\n",
    "    bar_plot(c)"
   ]
  },
  {
   "cell_type": "code",
   "execution_count": 9,
   "id": "c23cc32a",
   "metadata": {
    "execution": {
     "iopub.execute_input": "2024-11-22T16:50:53.751856Z",
     "iopub.status.busy": "2024-11-22T16:50:53.751428Z",
     "iopub.status.idle": "2024-11-22T16:50:53.769470Z",
     "shell.execute_reply": "2024-11-22T16:50:53.767379Z"
    },
    "papermill": {
     "duration": 0.029552,
     "end_time": "2024-11-22T16:50:53.772985",
     "exception": false,
     "start_time": "2024-11-22T16:50:53.743433",
     "status": "completed"
    },
    "tags": []
   },
   "outputs": [
    {
     "name": "stdout",
     "output_type": "stream",
     "text": [
      "Cabin\n",
      "B96 B98        4\n",
      "G6             4\n",
      "C23 C25 C27    4\n",
      "C22 C26        3\n",
      "F33            3\n",
      "              ..\n",
      "E34            1\n",
      "C7             1\n",
      "C54            1\n",
      "E36            1\n",
      "C148           1\n",
      "Name: count, Length: 147, dtype: int64: \n",
      "\n",
      "Name\n",
      "Braund, Mr. Owen Harris                     1\n",
      "Boulos, Mr. Hanna                           1\n",
      "Frolicher-Stehli, Mr. Maxmillian            1\n",
      "Gilinski, Mr. Eliezer                       1\n",
      "Murdlin, Mr. Joseph                         1\n",
      "                                           ..\n",
      "Kelly, Miss. Anna Katherine \"Annie Kate\"    1\n",
      "McCoy, Mr. Bernard                          1\n",
      "Johnson, Mr. William Cahoone Jr             1\n",
      "Keane, Miss. Nora A                         1\n",
      "Dooley, Mr. Patrick                         1\n",
      "Name: count, Length: 891, dtype: int64: \n",
      "\n",
      "Ticket\n",
      "347082      7\n",
      "CA. 2343    7\n",
      "1601        7\n",
      "3101295     6\n",
      "CA 2144     6\n",
      "           ..\n",
      "9234        1\n",
      "19988       1\n",
      "2693        1\n",
      "PC 17612    1\n",
      "370376      1\n",
      "Name: count, Length: 681, dtype: int64: \n",
      "\n"
     ]
    }
   ],
   "source": [
    "category2= [\"Cabin\", \"Name\", \"Ticket\"]\n",
    "for c in category2:\n",
    "    print(\"{}: \\n\".format(train_df[c].value_counts()))"
   ]
  },
  {
   "cell_type": "markdown",
   "id": "c150b0e2",
   "metadata": {
    "papermill": {
     "duration": 0.008232,
     "end_time": "2024-11-22T16:50:53.788757",
     "exception": false,
     "start_time": "2024-11-22T16:50:53.780525",
     "status": "completed"
    },
    "tags": []
   },
   "source": [
    "<a id=\"5\"></a>\n",
    "## Numerical Variable:"
   ]
  }
 ],
 "metadata": {
  "kaggle": {
   "accelerator": "none",
   "dataSources": [
    {
     "databundleVersionId": 26502,
     "sourceId": 3136,
     "sourceType": "competition"
    }
   ],
   "dockerImageVersionId": 30786,
   "isGpuEnabled": false,
   "isInternetEnabled": false,
   "language": "python",
   "sourceType": "notebook"
  },
  "kernelspec": {
   "display_name": "Python 3",
   "language": "python",
   "name": "python3"
  },
  "language_info": {
   "codemirror_mode": {
    "name": "ipython",
    "version": 3
   },
   "file_extension": ".py",
   "mimetype": "text/x-python",
   "name": "python",
   "nbconvert_exporter": "python",
   "pygments_lexer": "ipython3",
   "version": "3.10.14"
  },
  "papermill": {
   "default_parameters": {},
   "duration": 8.791746,
   "end_time": "2024-11-22T16:50:54.519404",
   "environment_variables": {},
   "exception": null,
   "input_path": "__notebook__.ipynb",
   "output_path": "__notebook__.ipynb",
   "parameters": {},
   "start_time": "2024-11-22T16:50:45.727658",
   "version": "2.6.0"
  }
 },
 "nbformat": 4,
 "nbformat_minor": 5
}
