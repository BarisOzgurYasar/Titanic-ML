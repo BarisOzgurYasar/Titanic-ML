{
 "cells": [
  {
   "cell_type": "markdown",
   "id": "548b6e5d",
   "metadata": {
    "papermill": {
     "duration": 0.011365,
     "end_time": "2024-12-03T13:30:50.036665",
     "exception": false,
     "start_time": "2024-12-03T13:30:50.025300",
     "status": "completed"
    },
    "tags": []
   },
   "source": [
    "# Introduction\n",
    "\n",
    "The sinking of Titanic is one of the most notorious shipwrecks in the history. In 1912, during her voyage, the Titanic sank after colliding with an iceberg, killing 1502 out of 2224 passsengers and crew.\n",
    "\n",
    "<font color= \"blue\">\n",
    "Content:\n",
    "    \n",
    "1. [Load and Check Data](#1)\n",
    "2. [Variable Description](#2)\n",
    "   * [Univariate Variable Ananlysis](#3)\n",
    "       * [Categorical Variable Ananlysis](#4)\n",
    "       * [Numerical Variable Ananlysis](#5)\n",
    "1. [Basic Data Analysis](#6)\n",
    "1. [Outlier Detection](#7)\n",
    "1. [Missing Value](#8)\n",
    "   * [Find Missing Value](#9)\n",
    "   * [Fill Missing Value](#10)\n",
    "1. [Visualization](#11)\n",
    "    * [Correlation Between Sibsp -- Parch -- Age -- Fare -- Survived](#12)\n",
    "    * [SibSp -- Survived](#13)\n",
    "    * [Parch -- Survived](#14)\n",
    "    * [Pclass -- Survived](#15)\n",
    "    * [Age -- Survived](#16)\n",
    "    * [Pclass -- Survived -- Age](#17)\n",
    "    * [Embarked -- Sex -- Pclass -- Survived](#18)\n",
    "    * [Embarked -- Sex -- Fare -- Survived](#19)\n",
    "    * [Fill Missing: Age Feature](#20)"
   ]
  },
  {
   "cell_type": "code",
   "execution_count": 1,
   "id": "f621a8c7",
   "metadata": {
    "_cell_guid": "b1076dfc-b9ad-4769-8c92-a6c4dae69d19",
    "_uuid": "8f2839f25d086af736a60e9eeb907d3b93b6e0e5",
    "execution": {
     "iopub.execute_input": "2024-12-03T13:30:50.060339Z",
     "iopub.status.busy": "2024-12-03T13:30:50.059910Z",
     "iopub.status.idle": "2024-12-03T13:30:52.990445Z",
     "shell.execute_reply": "2024-12-03T13:30:52.988954Z"
    },
    "papermill": {
     "duration": 2.946021,
     "end_time": "2024-12-03T13:30:52.992977",
     "exception": false,
     "start_time": "2024-12-03T13:30:50.046956",
     "status": "completed"
    },
    "tags": []
   },
   "outputs": [
    {
     "name": "stdout",
     "output_type": "stream",
     "text": [
      "/kaggle/input/titanic/train.csv\n",
      "/kaggle/input/titanic/test.csv\n",
      "/kaggle/input/titanic/gender_submission.csv\n"
     ]
    }
   ],
   "source": [
    "# This Python 3 environment comes with many helpful analytics libraries installed\n",
    "# It is defined by the kaggle/python Docker image: https://github.com/kaggle/docker-python\n",
    "# For example, here's several helpful packages to load\n",
    "\n",
    "import numpy as np # linear algebra\n",
    "import pandas as pd # data processing, CSV file I/O (e.g. pd.read_csv)\n",
    "import matplotlib.pyplot as plt\n",
    "plt.style.use('seaborn-v0_8-whitegrid')\n",
    "import seaborn as sns \n",
    "from collections import Counter\n",
    "import warnings\n",
    "warnings.filterwarnings('ignore')\n",
    "\n",
    "# Input data files are available in the read-only \"../input/\" directory\n",
    "# For example, running this (by clicking run or pressing Shift+Enter) will list all files under the input directory\n",
    "\n",
    "import os\n",
    "for dirname, _, filenames in os.walk('/kaggle/input'):\n",
    "    for filename in filenames:\n",
    "        print(os.path.join(dirname, filename))\n",
    "\n",
    "# You can write up to 20GB to the current directory (/kaggle/working/) that gets preserved as output when you create a version using \"Save & Run All\" \n",
    "# You can also write temporary files to /kaggle/temp/, but they won't be saved outside of the current session"
   ]
  },
  {
   "cell_type": "markdown",
   "id": "c6f55f2d",
   "metadata": {
    "papermill": {
     "duration": 0.011472,
     "end_time": "2024-12-03T13:30:53.015429",
     "exception": false,
     "start_time": "2024-12-03T13:30:53.003957",
     "status": "completed"
    },
    "tags": []
   },
   "source": [
    "<a id=\"1\"></a>\n",
    "# Load and Check Data"
   ]
  },
  {
   "cell_type": "code",
   "execution_count": 2,
   "id": "1dd9b662",
   "metadata": {
    "execution": {
     "iopub.execute_input": "2024-12-03T13:30:53.047437Z",
     "iopub.status.busy": "2024-12-03T13:30:53.046529Z",
     "iopub.status.idle": "2024-12-03T13:30:53.083935Z",
     "shell.execute_reply": "2024-12-03T13:30:53.082641Z"
    },
    "papermill": {
     "duration": 0.052855,
     "end_time": "2024-12-03T13:30:53.086544",
     "exception": false,
     "start_time": "2024-12-03T13:30:53.033689",
     "status": "completed"
    },
    "tags": []
   },
   "outputs": [],
   "source": [
    "train_df = pd.read_csv(\"/kaggle/input/titanic/train.csv\")\n",
    "test_df = pd.read_csv(\"/kaggle/input/titanic/test.csv\")\n",
    "test_PassengerId = test_df[\"PassengerId\"]"
   ]
  },
  {
   "cell_type": "code",
   "execution_count": 3,
   "id": "3a51e5c1",
   "metadata": {
    "execution": {
     "iopub.execute_input": "2024-12-03T13:30:53.111855Z",
     "iopub.status.busy": "2024-12-03T13:30:53.110823Z",
     "iopub.status.idle": "2024-12-03T13:30:53.124450Z",
     "shell.execute_reply": "2024-12-03T13:30:53.122919Z"
    },
    "papermill": {
     "duration": 0.029913,
     "end_time": "2024-12-03T13:30:53.127440",
     "exception": false,
     "start_time": "2024-12-03T13:30:53.097527",
     "status": "completed"
    },
    "tags": []
   },
   "outputs": [
    {
     "data": {
      "text/plain": [
       "Index(['PassengerId', 'Survived', 'Pclass', 'Name', 'Sex', 'Age', 'SibSp',\n",
       "       'Parch', 'Ticket', 'Fare', 'Cabin', 'Embarked'],\n",
       "      dtype='object')"
      ]
     },
     "execution_count": 3,
     "metadata": {},
     "output_type": "execute_result"
    }
   ],
   "source": [
    "train_df.columns\n"
   ]
  },
  {
   "cell_type": "code",
   "execution_count": 4,
   "id": "90b184ff",
   "metadata": {
    "execution": {
     "iopub.execute_input": "2024-12-03T13:30:53.157604Z",
     "iopub.status.busy": "2024-12-03T13:30:53.157071Z",
     "iopub.status.idle": "2024-12-03T13:30:53.181563Z",
     "shell.execute_reply": "2024-12-03T13:30:53.180144Z"
    },
    "papermill": {
     "duration": 0.043545,
     "end_time": "2024-12-03T13:30:53.184729",
     "exception": false,
     "start_time": "2024-12-03T13:30:53.141184",
     "status": "completed"
    },
    "tags": []
   },
   "outputs": [
    {
     "data": {
      "text/html": [
       "<div>\n",
       "<style scoped>\n",
       "    .dataframe tbody tr th:only-of-type {\n",
       "        vertical-align: middle;\n",
       "    }\n",
       "\n",
       "    .dataframe tbody tr th {\n",
       "        vertical-align: top;\n",
       "    }\n",
       "\n",
       "    .dataframe thead th {\n",
       "        text-align: right;\n",
       "    }\n",
       "</style>\n",
       "<table border=\"1\" class=\"dataframe\">\n",
       "  <thead>\n",
       "    <tr style=\"text-align: right;\">\n",
       "      <th></th>\n",
       "      <th>PassengerId</th>\n",
       "      <th>Survived</th>\n",
       "      <th>Pclass</th>\n",
       "      <th>Name</th>\n",
       "      <th>Sex</th>\n",
       "      <th>Age</th>\n",
       "      <th>SibSp</th>\n",
       "      <th>Parch</th>\n",
       "      <th>Ticket</th>\n",
       "      <th>Fare</th>\n",
       "      <th>Cabin</th>\n",
       "      <th>Embarked</th>\n",
       "    </tr>\n",
       "  </thead>\n",
       "  <tbody>\n",
       "    <tr>\n",
       "      <th>0</th>\n",
       "      <td>1</td>\n",
       "      <td>0</td>\n",
       "      <td>3</td>\n",
       "      <td>Braund, Mr. Owen Harris</td>\n",
       "      <td>male</td>\n",
       "      <td>22.0</td>\n",
       "      <td>1</td>\n",
       "      <td>0</td>\n",
       "      <td>A/5 21171</td>\n",
       "      <td>7.2500</td>\n",
       "      <td>NaN</td>\n",
       "      <td>S</td>\n",
       "    </tr>\n",
       "    <tr>\n",
       "      <th>1</th>\n",
       "      <td>2</td>\n",
       "      <td>1</td>\n",
       "      <td>1</td>\n",
       "      <td>Cumings, Mrs. John Bradley (Florence Briggs Th...</td>\n",
       "      <td>female</td>\n",
       "      <td>38.0</td>\n",
       "      <td>1</td>\n",
       "      <td>0</td>\n",
       "      <td>PC 17599</td>\n",
       "      <td>71.2833</td>\n",
       "      <td>C85</td>\n",
       "      <td>C</td>\n",
       "    </tr>\n",
       "    <tr>\n",
       "      <th>2</th>\n",
       "      <td>3</td>\n",
       "      <td>1</td>\n",
       "      <td>3</td>\n",
       "      <td>Heikkinen, Miss. Laina</td>\n",
       "      <td>female</td>\n",
       "      <td>26.0</td>\n",
       "      <td>0</td>\n",
       "      <td>0</td>\n",
       "      <td>STON/O2. 3101282</td>\n",
       "      <td>7.9250</td>\n",
       "      <td>NaN</td>\n",
       "      <td>S</td>\n",
       "    </tr>\n",
       "    <tr>\n",
       "      <th>3</th>\n",
       "      <td>4</td>\n",
       "      <td>1</td>\n",
       "      <td>1</td>\n",
       "      <td>Futrelle, Mrs. Jacques Heath (Lily May Peel)</td>\n",
       "      <td>female</td>\n",
       "      <td>35.0</td>\n",
       "      <td>1</td>\n",
       "      <td>0</td>\n",
       "      <td>113803</td>\n",
       "      <td>53.1000</td>\n",
       "      <td>C123</td>\n",
       "      <td>S</td>\n",
       "    </tr>\n",
       "    <tr>\n",
       "      <th>4</th>\n",
       "      <td>5</td>\n",
       "      <td>0</td>\n",
       "      <td>3</td>\n",
       "      <td>Allen, Mr. William Henry</td>\n",
       "      <td>male</td>\n",
       "      <td>35.0</td>\n",
       "      <td>0</td>\n",
       "      <td>0</td>\n",
       "      <td>373450</td>\n",
       "      <td>8.0500</td>\n",
       "      <td>NaN</td>\n",
       "      <td>S</td>\n",
       "    </tr>\n",
       "  </tbody>\n",
       "</table>\n",
       "</div>"
      ],
      "text/plain": [
       "   PassengerId  Survived  Pclass  \\\n",
       "0            1         0       3   \n",
       "1            2         1       1   \n",
       "2            3         1       3   \n",
       "3            4         1       1   \n",
       "4            5         0       3   \n",
       "\n",
       "                                                Name     Sex   Age  SibSp  \\\n",
       "0                            Braund, Mr. Owen Harris    male  22.0      1   \n",
       "1  Cumings, Mrs. John Bradley (Florence Briggs Th...  female  38.0      1   \n",
       "2                             Heikkinen, Miss. Laina  female  26.0      0   \n",
       "3       Futrelle, Mrs. Jacques Heath (Lily May Peel)  female  35.0      1   \n",
       "4                           Allen, Mr. William Henry    male  35.0      0   \n",
       "\n",
       "   Parch            Ticket     Fare Cabin Embarked  \n",
       "0      0         A/5 21171   7.2500   NaN        S  \n",
       "1      0          PC 17599  71.2833   C85        C  \n",
       "2      0  STON/O2. 3101282   7.9250   NaN        S  \n",
       "3      0            113803  53.1000  C123        S  \n",
       "4      0            373450   8.0500   NaN        S  "
      ]
     },
     "execution_count": 4,
     "metadata": {},
     "output_type": "execute_result"
    }
   ],
   "source": [
    "train_df.head()"
   ]
  },
  {
   "cell_type": "code",
   "execution_count": 5,
   "id": "a84d6a69",
   "metadata": {
    "execution": {
     "iopub.execute_input": "2024-12-03T13:30:53.214957Z",
     "iopub.status.busy": "2024-12-03T13:30:53.214517Z",
     "iopub.status.idle": "2024-12-03T13:30:53.251456Z",
     "shell.execute_reply": "2024-12-03T13:30:53.249947Z"
    },
    "papermill": {
     "duration": 0.052042,
     "end_time": "2024-12-03T13:30:53.253749",
     "exception": false,
     "start_time": "2024-12-03T13:30:53.201707",
     "status": "completed"
    },
    "tags": []
   },
   "outputs": [
    {
     "data": {
      "text/html": [
       "<div>\n",
       "<style scoped>\n",
       "    .dataframe tbody tr th:only-of-type {\n",
       "        vertical-align: middle;\n",
       "    }\n",
       "\n",
       "    .dataframe tbody tr th {\n",
       "        vertical-align: top;\n",
       "    }\n",
       "\n",
       "    .dataframe thead th {\n",
       "        text-align: right;\n",
       "    }\n",
       "</style>\n",
       "<table border=\"1\" class=\"dataframe\">\n",
       "  <thead>\n",
       "    <tr style=\"text-align: right;\">\n",
       "      <th></th>\n",
       "      <th>PassengerId</th>\n",
       "      <th>Survived</th>\n",
       "      <th>Pclass</th>\n",
       "      <th>Age</th>\n",
       "      <th>SibSp</th>\n",
       "      <th>Parch</th>\n",
       "      <th>Fare</th>\n",
       "    </tr>\n",
       "  </thead>\n",
       "  <tbody>\n",
       "    <tr>\n",
       "      <th>count</th>\n",
       "      <td>891.000000</td>\n",
       "      <td>891.000000</td>\n",
       "      <td>891.000000</td>\n",
       "      <td>714.000000</td>\n",
       "      <td>891.000000</td>\n",
       "      <td>891.000000</td>\n",
       "      <td>891.000000</td>\n",
       "    </tr>\n",
       "    <tr>\n",
       "      <th>mean</th>\n",
       "      <td>446.000000</td>\n",
       "      <td>0.383838</td>\n",
       "      <td>2.308642</td>\n",
       "      <td>29.699118</td>\n",
       "      <td>0.523008</td>\n",
       "      <td>0.381594</td>\n",
       "      <td>32.204208</td>\n",
       "    </tr>\n",
       "    <tr>\n",
       "      <th>std</th>\n",
       "      <td>257.353842</td>\n",
       "      <td>0.486592</td>\n",
       "      <td>0.836071</td>\n",
       "      <td>14.526497</td>\n",
       "      <td>1.102743</td>\n",
       "      <td>0.806057</td>\n",
       "      <td>49.693429</td>\n",
       "    </tr>\n",
       "    <tr>\n",
       "      <th>min</th>\n",
       "      <td>1.000000</td>\n",
       "      <td>0.000000</td>\n",
       "      <td>1.000000</td>\n",
       "      <td>0.420000</td>\n",
       "      <td>0.000000</td>\n",
       "      <td>0.000000</td>\n",
       "      <td>0.000000</td>\n",
       "    </tr>\n",
       "    <tr>\n",
       "      <th>25%</th>\n",
       "      <td>223.500000</td>\n",
       "      <td>0.000000</td>\n",
       "      <td>2.000000</td>\n",
       "      <td>20.125000</td>\n",
       "      <td>0.000000</td>\n",
       "      <td>0.000000</td>\n",
       "      <td>7.910400</td>\n",
       "    </tr>\n",
       "    <tr>\n",
       "      <th>50%</th>\n",
       "      <td>446.000000</td>\n",
       "      <td>0.000000</td>\n",
       "      <td>3.000000</td>\n",
       "      <td>28.000000</td>\n",
       "      <td>0.000000</td>\n",
       "      <td>0.000000</td>\n",
       "      <td>14.454200</td>\n",
       "    </tr>\n",
       "    <tr>\n",
       "      <th>75%</th>\n",
       "      <td>668.500000</td>\n",
       "      <td>1.000000</td>\n",
       "      <td>3.000000</td>\n",
       "      <td>38.000000</td>\n",
       "      <td>1.000000</td>\n",
       "      <td>0.000000</td>\n",
       "      <td>31.000000</td>\n",
       "    </tr>\n",
       "    <tr>\n",
       "      <th>max</th>\n",
       "      <td>891.000000</td>\n",
       "      <td>1.000000</td>\n",
       "      <td>3.000000</td>\n",
       "      <td>80.000000</td>\n",
       "      <td>8.000000</td>\n",
       "      <td>6.000000</td>\n",
       "      <td>512.329200</td>\n",
       "    </tr>\n",
       "  </tbody>\n",
       "</table>\n",
       "</div>"
      ],
      "text/plain": [
       "       PassengerId    Survived      Pclass         Age       SibSp  \\\n",
       "count   891.000000  891.000000  891.000000  714.000000  891.000000   \n",
       "mean    446.000000    0.383838    2.308642   29.699118    0.523008   \n",
       "std     257.353842    0.486592    0.836071   14.526497    1.102743   \n",
       "min       1.000000    0.000000    1.000000    0.420000    0.000000   \n",
       "25%     223.500000    0.000000    2.000000   20.125000    0.000000   \n",
       "50%     446.000000    0.000000    3.000000   28.000000    0.000000   \n",
       "75%     668.500000    1.000000    3.000000   38.000000    1.000000   \n",
       "max     891.000000    1.000000    3.000000   80.000000    8.000000   \n",
       "\n",
       "            Parch        Fare  \n",
       "count  891.000000  891.000000  \n",
       "mean     0.381594   32.204208  \n",
       "std      0.806057   49.693429  \n",
       "min      0.000000    0.000000  \n",
       "25%      0.000000    7.910400  \n",
       "50%      0.000000   14.454200  \n",
       "75%      0.000000   31.000000  \n",
       "max      6.000000  512.329200  "
      ]
     },
     "execution_count": 5,
     "metadata": {},
     "output_type": "execute_result"
    }
   ],
   "source": [
    "train_df.describe()"
   ]
  },
  {
   "cell_type": "markdown",
   "id": "5d37e1cb",
   "metadata": {
    "papermill": {
     "duration": 0.01105,
     "end_time": "2024-12-03T13:30:53.277545",
     "exception": false,
     "start_time": "2024-12-03T13:30:53.266495",
     "status": "completed"
    },
    "tags": []
   },
   "source": [
    "<a id=\"2\"></a>\n",
    "# Variable Description\n",
    "\n",
    "1. PassengerId: unique id number to each passenger\n",
    "1. Survived: passenger survive(1) or died(0)\n",
    "1. Pclass: passenger class\n",
    "1. Name: name of passenger\n",
    "1. Sex: gender of passenger\n",
    "1. Age: age of passenger\n",
    "1. SibSp: number of siblings/spouses\n",
    "1. Parch: number of parents/childeren\n",
    "1. Ticket: ticket number\n",
    "1. Fare: amount of money spent on ticket\n",
    "1. Cabin: cabin category\n",
    "1. Embarked: port where passenger embarked (C= Cherbourg, Q= Queenstown, S=Southampton)"
   ]
  },
  {
   "cell_type": "code",
   "execution_count": 6,
   "id": "b64fcf5e",
   "metadata": {
    "execution": {
     "iopub.execute_input": "2024-12-03T13:30:53.303424Z",
     "iopub.status.busy": "2024-12-03T13:30:53.302900Z",
     "iopub.status.idle": "2024-12-03T13:30:53.332624Z",
     "shell.execute_reply": "2024-12-03T13:30:53.331255Z"
    },
    "papermill": {
     "duration": 0.046505,
     "end_time": "2024-12-03T13:30:53.335297",
     "exception": false,
     "start_time": "2024-12-03T13:30:53.288792",
     "status": "completed"
    },
    "tags": []
   },
   "outputs": [
    {
     "name": "stdout",
     "output_type": "stream",
     "text": [
      "<class 'pandas.core.frame.DataFrame'>\n",
      "RangeIndex: 891 entries, 0 to 890\n",
      "Data columns (total 12 columns):\n",
      " #   Column       Non-Null Count  Dtype  \n",
      "---  ------       --------------  -----  \n",
      " 0   PassengerId  891 non-null    int64  \n",
      " 1   Survived     891 non-null    int64  \n",
      " 2   Pclass       891 non-null    int64  \n",
      " 3   Name         891 non-null    object \n",
      " 4   Sex          891 non-null    object \n",
      " 5   Age          714 non-null    float64\n",
      " 6   SibSp        891 non-null    int64  \n",
      " 7   Parch        891 non-null    int64  \n",
      " 8   Ticket       891 non-null    object \n",
      " 9   Fare         891 non-null    float64\n",
      " 10  Cabin        204 non-null    object \n",
      " 11  Embarked     889 non-null    object \n",
      "dtypes: float64(2), int64(5), object(5)\n",
      "memory usage: 83.7+ KB\n"
     ]
    }
   ],
   "source": [
    "train_df.info()"
   ]
  },
  {
   "cell_type": "markdown",
   "id": "b746f2ba",
   "metadata": {
    "papermill": {
     "duration": 0.011391,
     "end_time": "2024-12-03T13:30:53.358483",
     "exception": false,
     "start_time": "2024-12-03T13:30:53.347092",
     "status": "completed"
    },
    "tags": []
   },
   "source": [
    "* float64(2): Fare and age \n",
    "* int64(5): Pclass, sibsp, parch, passengerId and survived\n",
    "* object(5): Cabin, embarked, ticket, name and sex"
   ]
  },
  {
   "cell_type": "markdown",
   "id": "2d354f71",
   "metadata": {
    "papermill": {
     "duration": 0.011866,
     "end_time": "2024-12-03T13:30:53.381912",
     "exception": false,
     "start_time": "2024-12-03T13:30:53.370046",
     "status": "completed"
    },
    "tags": []
   },
   "source": [
    "<a id=\"3\"></a>\n",
    "# Univariate Variable Ananlysis\n",
    "\n",
    "* Categorical Variable: Survived, Sex, Pclass, Embarked, Cabin, Name, Ticket, SibSp and Parch\n",
    "  \n",
    "* Numerical Variable: Age, PassengerId and Fare"
   ]
  },
  {
   "cell_type": "markdown",
   "id": "9540b503",
   "metadata": {
    "papermill": {
     "duration": 0.011254,
     "end_time": "2024-12-03T13:30:53.404724",
     "exception": false,
     "start_time": "2024-12-03T13:30:53.393470",
     "status": "completed"
    },
    "tags": []
   },
   "source": [
    "<a id=\"4\"></a>\n",
    "## Categorical Variable\n"
   ]
  },
  {
   "cell_type": "code",
   "execution_count": 7,
   "id": "36fba905",
   "metadata": {
    "execution": {
     "iopub.execute_input": "2024-12-03T13:30:53.430146Z",
     "iopub.status.busy": "2024-12-03T13:30:53.429251Z",
     "iopub.status.idle": "2024-12-03T13:30:53.436824Z",
     "shell.execute_reply": "2024-12-03T13:30:53.435510Z"
    },
    "papermill": {
     "duration": 0.023769,
     "end_time": "2024-12-03T13:30:53.439953",
     "exception": false,
     "start_time": "2024-12-03T13:30:53.416184",
     "status": "completed"
    },
    "tags": []
   },
   "outputs": [],
   "source": [
    "def bar_plot(variable):\n",
    "    \"\"\"\n",
    "        input: variable ex: \"Sex\"\n",
    "        output: bar plot & value count\n",
    "    \"\"\"\n",
    "    # get feature\n",
    "    var= train_df[variable]\n",
    "    #count number of categorical variable(value/sample)\n",
    "    varValue= var.value_counts()\n",
    "\n",
    "    #visualize\n",
    "    plt.figure(figsize =(9,3))\n",
    "    plt.bar(varValue.index, varValue)\n",
    "    plt.xticks(varValue.index, varValue.index.values)\n",
    "    plt.ylabel(\"Frequency\")\n",
    "    plt.title(variable)\n",
    "    plt.show()\n",
    "    print(\"{}: \\n {}\".format(variable,varValue))"
   ]
  },
  {
   "cell_type": "code",
   "execution_count": 8,
   "id": "050195e5",
   "metadata": {
    "execution": {
     "iopub.execute_input": "2024-12-03T13:30:53.472913Z",
     "iopub.status.busy": "2024-12-03T13:30:53.472475Z",
     "iopub.status.idle": "2024-12-03T13:30:54.967603Z",
     "shell.execute_reply": "2024-12-03T13:30:54.966040Z"
    },
    "papermill": {
     "duration": 1.510589,
     "end_time": "2024-12-03T13:30:54.969902",
     "exception": false,
     "start_time": "2024-12-03T13:30:53.459313",
     "status": "completed"
    },
    "tags": []
   },
   "outputs": [
    {
     "data": {
      "image/png": "[encoded data removed]",
      "text/plain": [
       "<Figure size 900x300 with 1 Axes>"
      ]
     },
     "metadata": {},
     "output_type": "display_data"
    },
    {
     "name": "stdout",
     "output_type": "stream",
     "text": [
      "Survived: \n",
      " Survived\n",
      "0    549\n",
      "1    342\n",
      "Name: count, dtype: int64\n"
     ]
    },
    {
     "data": {
      "image/png": "[encoded data removed]",
      "text/plain": [
       "<Figure size 900x300 with 1 Axes>"
      ]
     },
     "metadata": {},
     "output_type": "display_data"
    },
    {
     "name": "stdout",
     "output_type": "stream",
     "text": [
      "Sex: \n",
      " Sex\n",
      "male      577\n",
      "female    314\n",
      "Name: count, dtype: int64\n"
     ]
    },
    {
     "data": {
      "image/png": "[encoded data removed]",
      "text/plain": [
       "<Figure size 900x300 with 1 Axes>"
      ]
     },
     "metadata": {},
     "output_type": "display_data"
    },
    {
     "name": "stdout",
     "output_type": "stream",
     "text": [
      "Pclass: \n",
      " Pclass\n",
      "3    491\n",
      "1    216\n",
      "2    184\n",
      "Name: count, dtype: int64\n"
     ]
    },
    {
     "data": {
      "image/png": "[encoded data removed]",
      "text/plain": [
       "<Figure size 900x300 with 1 Axes>"
      ]
     },
     "metadata": {},
     "output_type": "display_data"
    },
    {
     "name": "stdout",
     "output_type": "stream",
     "text": [
      "Embarked: \n",
      " Embarked\n",
      "S    644\n",
      "C    168\n",
      "Q     77\n",
      "Name: count, dtype: int64\n"
     ]
    },
    {
     "data": {
      "image/png": "[encoded data removed]",
      "text/plain": [
       "<Figure size 900x300 with 1 Axes>"
      ]
     },
     "metadata": {},
     "output_type": "display_data"
    },
    {
     "name": "stdout",
     "output_type": "stream",
     "text": [
      "SibSp: \n",
      " SibSp\n",
      "0    608\n",
      "1    209\n",
      "2     28\n",
      "4     18\n",
      "3     16\n",
      "8      7\n",
      "5      5\n",
      "Name: count, dtype: int64\n"
     ]
    },
    {
     "data": {
      "image/png": "[encoded data removed]",
      "text/plain": [
       "<Figure size 900x300 with 1 Axes>"
      ]
     },
     "metadata": {},
     "output_type": "display_data"
    },
    {
     "name": "stdout",
     "output_type": "stream",
     "text": [
      "Parch: \n",
      " Parch\n",
      "0    678\n",
      "1    118\n",
      "2     80\n",
      "5      5\n",
      "3      5\n",
      "4      4\n",
      "6      1\n",
      "Name: count, dtype: int64\n"
     ]
    }
   ],
   "source": [
    "category1= [\"Survived\", \"Sex\", \"Pclass\", \"Embarked\", \"SibSp\", \"Parch\"]\n",
    "for c in category1:\n",
    "    bar_plot(c)"
   ]
  },
  {
   "cell_type": "code",
   "execution_count": 9,
   "id": "eafe9e8e",
   "metadata": {
    "execution": {
     "iopub.execute_input": "2024-12-03T13:30:54.998645Z",
     "iopub.status.busy": "2024-12-03T13:30:54.998147Z",
     "iopub.status.idle": "2024-12-03T13:30:55.013197Z",
     "shell.execute_reply": "2024-12-03T13:30:55.011536Z"
    },
    "papermill": {
     "duration": 0.032854,
     "end_time": "2024-12-03T13:30:55.015964",
     "exception": false,
     "start_time": "2024-12-03T13:30:54.983110",
     "status": "completed"
    },
    "tags": []
   },
   "outputs": [
    {
     "name": "stdout",
     "output_type": "stream",
     "text": [
      "Cabin\n",
      "B96 B98        4\n",
      "G6             4\n",
      "C23 C25 C27    4\n",
      "C22 C26        3\n",
      "F33            3\n",
      "              ..\n",
      "E34            1\n",
      "C7             1\n",
      "C54            1\n",
      "E36            1\n",
      "C148           1\n",
      "Name: count, Length: 147, dtype: int64: \n",
      "\n",
      "Name\n",
      "Braund, Mr. Owen Harris                     1\n",
      "Boulos, Mr. Hanna                           1\n",
      "Frolicher-Stehli, Mr. Maxmillian            1\n",
      "Gilinski, Mr. Eliezer                       1\n",
      "Murdlin, Mr. Joseph                         1\n",
      "                                           ..\n",
      "Kelly, Miss. Anna Katherine \"Annie Kate\"    1\n",
      "McCoy, Mr. Bernard                          1\n",
      "Johnson, Mr. William Cahoone Jr             1\n",
      "Keane, Miss. Nora A                         1\n",
      "Dooley, Mr. Patrick                         1\n",
      "Name: count, Length: 891, dtype: int64: \n",
      "\n",
      "Ticket\n",
      "347082      7\n",
      "CA. 2343    7\n",
      "1601        7\n",
      "3101295     6\n",
      "CA 2144     6\n",
      "           ..\n",
      "9234        1\n",
      "19988       1\n",
      "2693        1\n",
      "PC 17612    1\n",
      "370376      1\n",
      "Name: count, Length: 681, dtype: int64: \n",
      "\n"
     ]
    }
   ],
   "source": [
    "category2= [\"Cabin\", \"Name\", \"Ticket\"]\n",
    "for c in category2:\n",
    "    print(\"{}: \\n\".format(train_df[c].value_counts()))"
   ]
  },
  {
   "cell_type": "markdown",
   "id": "d9b9cbb1",
   "metadata": {
    "papermill": {
     "duration": 0.014559,
     "end_time": "2024-12-03T13:30:55.045275",
     "exception": false,
     "start_time": "2024-12-03T13:30:55.030716",
     "status": "completed"
    },
    "tags": []
   },
   "source": [
    "<a id=\"5\"></a>\n",
    "## Numerical Variable:"
   ]
  },
  {
   "cell_type": "code",
   "execution_count": 10,
   "id": "21048fb4",
   "metadata": {
    "execution": {
     "iopub.execute_input": "2024-12-03T13:30:55.075673Z",
     "iopub.status.busy": "2024-12-03T13:30:55.075225Z",
     "iopub.status.idle": "2024-12-03T13:30:55.082161Z",
     "shell.execute_reply": "2024-12-03T13:30:55.080677Z"
    },
    "papermill": {
     "duration": 0.024903,
     "end_time": "2024-12-03T13:30:55.084853",
     "exception": false,
     "start_time": "2024-12-03T13:30:55.059950",
     "status": "completed"
    },
    "tags": []
   },
   "outputs": [],
   "source": [
    "def plot_hist(variable):\n",
    "    plt.figure(figsize=(9,3))\n",
    "    plt.hist(train_df[variable], bins= 50)\n",
    "    plt.xlabel(variable)\n",
    "    plt.ylabel(\"Frequency\")\n",
    "    plt.title(\"{} distribution with hist\".format(variable))\n",
    "    plt.show()"
   ]
  },
  {
   "cell_type": "code",
   "execution_count": 11,
   "id": "eb1e8aaa",
   "metadata": {
    "execution": {
     "iopub.execute_input": "2024-12-03T13:30:55.114610Z",
     "iopub.status.busy": "2024-12-03T13:30:55.114223Z",
     "iopub.status.idle": "2024-12-03T13:30:56.085752Z",
     "shell.execute_reply": "2024-12-03T13:30:56.084251Z"
    },
    "papermill": {
     "duration": 0.98889,
     "end_time": "2024-12-03T13:30:56.088215",
     "exception": false,
     "start_time": "2024-12-03T13:30:55.099325",
     "status": "completed"
    },
    "tags": []
   },
   "outputs": [
    {
     "data": {
      "image/png": "[encoded data removed]",
      "text/plain": [
       "<Figure size 900x300 with 1 Axes>"
      ]
     },
     "metadata": {},
     "output_type": "display_data"
    },
    {
     "data": {
      "image/png": "[encoded data removed]",
      "text/plain": [
       "<Figure size 900x300 with 1 Axes>"
      ]
     },
     "metadata": {},
     "output_type": "display_data"
    },
    {
     "data": {
      "image/png": "[encoded data removed]",
      "text/plain": [
       "<Figure size 900x300 with 1 Axes>"
      ]
     },
     "metadata": {},
     "output_type": "display_data"
    }
   ],
   "source": [
    "numericVar= [\"Fare\", \"Age\", \"PassengerId\"]\n",
    "for n in numericVar:\n",
    "    plot_hist(n)"
   ]
  },
  {
   "cell_type": "markdown",
   "id": "643882b4",
   "metadata": {
    "papermill": {
     "duration": 0.014614,
     "end_time": "2024-12-03T13:30:56.117648",
     "exception": false,
     "start_time": "2024-12-03T13:30:56.103034",
     "status": "completed"
    },
    "tags": []
   },
   "source": [
    "<a id=\"6\"></a>\n",
    "# Basic Data Analysis\n",
    "\n",
    "* Pclass - Survived\n",
    "* Sex - Survived\n",
    "* SibSp - Survived\n",
    "* Parch - Survived"
   ]
  },
  {
   "cell_type": "code",
   "execution_count": 12,
   "id": "afce8aed",
   "metadata": {
    "execution": {
     "iopub.execute_input": "2024-12-03T13:30:56.148937Z",
     "iopub.status.busy": "2024-12-03T13:30:56.148535Z",
     "iopub.status.idle": "2024-12-03T13:30:56.166225Z",
     "shell.execute_reply": "2024-12-03T13:30:56.164896Z"
    },
    "papermill": {
     "duration": 0.036324,
     "end_time": "2024-12-03T13:30:56.168449",
     "exception": false,
     "start_time": "2024-12-03T13:30:56.132125",
     "status": "completed"
    },
    "tags": []
   },
   "outputs": [
    {
     "data": {
      "text/html": [
       "<div>\n",
       "<style scoped>\n",
       "    .dataframe tbody tr th:only-of-type {\n",
       "        vertical-align: middle;\n",
       "    }\n",
       "\n",
       "    .dataframe tbody tr th {\n",
       "        vertical-align: top;\n",
       "    }\n",
       "\n",
       "    .dataframe thead th {\n",
       "        text-align: right;\n",
       "    }\n",
       "</style>\n",
       "<table border=\"1\" class=\"dataframe\">\n",
       "  <thead>\n",
       "    <tr style=\"text-align: right;\">\n",
       "      <th></th>\n",
       "      <th>Pclass</th>\n",
       "      <th>Survived</th>\n",
       "    </tr>\n",
       "  </thead>\n",
       "  <tbody>\n",
       "    <tr>\n",
       "      <th>0</th>\n",
       "      <td>1</td>\n",
       "      <td>0.629630</td>\n",
       "    </tr>\n",
       "    <tr>\n",
       "      <th>1</th>\n",
       "      <td>2</td>\n",
       "      <td>0.472826</td>\n",
       "    </tr>\n",
       "    <tr>\n",
       "      <th>2</th>\n",
       "      <td>3</td>\n",
       "      <td>0.242363</td>\n",
       "    </tr>\n",
       "  </tbody>\n",
       "</table>\n",
       "</div>"
      ],
      "text/plain": [
       "   Pclass  Survived\n",
       "0       1  0.629630\n",
       "1       2  0.472826\n",
       "2       3  0.242363"
      ]
     },
     "execution_count": 12,
     "metadata": {},
     "output_type": "execute_result"
    }
   ],
   "source": [
    "# Pclass vs Survived\n",
    "train_df[[\"Pclass\", \"Survived\"]].groupby([\"Pclass\"], as_index= False).mean().sort_values(by= \"Survived\", ascending= False)"
   ]
  },
  {
   "cell_type": "code",
   "execution_count": 13,
   "id": "4caacfc7",
   "metadata": {
    "execution": {
     "iopub.execute_input": "2024-12-03T13:30:56.199947Z",
     "iopub.status.busy": "2024-12-03T13:30:56.199494Z",
     "iopub.status.idle": "2024-12-03T13:30:56.217000Z",
     "shell.execute_reply": "2024-12-03T13:30:56.215840Z"
    },
    "papermill": {
     "duration": 0.035963,
     "end_time": "2024-12-03T13:30:56.219257",
     "exception": false,
     "start_time": "2024-12-03T13:30:56.183294",
     "status": "completed"
    },
    "tags": []
   },
   "outputs": [
    {
     "data": {
      "text/html": [
       "<div>\n",
       "<style scoped>\n",
       "    .dataframe tbody tr th:only-of-type {\n",
       "        vertical-align: middle;\n",
       "    }\n",
       "\n",
       "    .dataframe tbody tr th {\n",
       "        vertical-align: top;\n",
       "    }\n",
       "\n",
       "    .dataframe thead th {\n",
       "        text-align: right;\n",
       "    }\n",
       "</style>\n",
       "<table border=\"1\" class=\"dataframe\">\n",
       "  <thead>\n",
       "    <tr style=\"text-align: right;\">\n",
       "      <th></th>\n",
       "      <th>Sex</th>\n",
       "      <th>Survived</th>\n",
       "    </tr>\n",
       "  </thead>\n",
       "  <tbody>\n",
       "    <tr>\n",
       "      <th>0</th>\n",
       "      <td>female</td>\n",
       "      <td>0.742038</td>\n",
       "    </tr>\n",
       "    <tr>\n",
       "      <th>1</th>\n",
       "      <td>male</td>\n",
       "      <td>0.188908</td>\n",
       "    </tr>\n",
       "  </tbody>\n",
       "</table>\n",
       "</div>"
      ],
      "text/plain": [
       "      Sex  Survived\n",
       "0  female  0.742038\n",
       "1    male  0.188908"
      ]
     },
     "execution_count": 13,
     "metadata": {},
     "output_type": "execute_result"
    }
   ],
   "source": [
    "# Sex vs Survived\n",
    "train_df[[\"Sex\", \"Survived\"]].groupby([\"Sex\"], as_index= False).mean().sort_values(by= \"Survived\", ascending= False)"
   ]
  },
  {
   "cell_type": "code",
   "execution_count": 14,
   "id": "324667fb",
   "metadata": {
    "execution": {
     "iopub.execute_input": "2024-12-03T13:30:56.252659Z",
     "iopub.status.busy": "2024-12-03T13:30:56.252259Z",
     "iopub.status.idle": "2024-12-03T13:30:56.269343Z",
     "shell.execute_reply": "2024-12-03T13:30:56.268152Z"
    },
    "papermill": {
     "duration": 0.03788,
     "end_time": "2024-12-03T13:30:56.271875",
     "exception": false,
     "start_time": "2024-12-03T13:30:56.233995",
     "status": "completed"
    },
    "tags": []
   },
   "outputs": [
    {
     "data": {
      "text/html": [
       "<div>\n",
       "<style scoped>\n",
       "    .dataframe tbody tr th:only-of-type {\n",
       "        vertical-align: middle;\n",
       "    }\n",
       "\n",
       "    .dataframe tbody tr th {\n",
       "        vertical-align: top;\n",
       "    }\n",
       "\n",
       "    .dataframe thead th {\n",
       "        text-align: right;\n",
       "    }\n",
       "</style>\n",
       "<table border=\"1\" class=\"dataframe\">\n",
       "  <thead>\n",
       "    <tr style=\"text-align: right;\">\n",
       "      <th></th>\n",
       "      <th>SibSp</th>\n",
       "      <th>Survived</th>\n",
       "    </tr>\n",
       "  </thead>\n",
       "  <tbody>\n",
       "    <tr>\n",
       "      <th>1</th>\n",
       "      <td>1</td>\n",
       "      <td>0.535885</td>\n",
       "    </tr>\n",
       "    <tr>\n",
       "      <th>2</th>\n",
       "      <td>2</td>\n",
       "      <td>0.464286</td>\n",
       "    </tr>\n",
       "    <tr>\n",
       "      <th>0</th>\n",
       "      <td>0</td>\n",
       "      <td>0.345395</td>\n",
       "    </tr>\n",
       "    <tr>\n",
       "      <th>3</th>\n",
       "      <td>3</td>\n",
       "      <td>0.250000</td>\n",
       "    </tr>\n",
       "    <tr>\n",
       "      <th>4</th>\n",
       "      <td>4</td>\n",
       "      <td>0.166667</td>\n",
       "    </tr>\n",
       "    <tr>\n",
       "      <th>5</th>\n",
       "      <td>5</td>\n",
       "      <td>0.000000</td>\n",
       "    </tr>\n",
       "    <tr>\n",
       "      <th>6</th>\n",
       "      <td>8</td>\n",
       "      <td>0.000000</td>\n",
       "    </tr>\n",
       "  </tbody>\n",
       "</table>\n",
       "</div>"
      ],
      "text/plain": [
       "   SibSp  Survived\n",
       "1      1  0.535885\n",
       "2      2  0.464286\n",
       "0      0  0.345395\n",
       "3      3  0.250000\n",
       "4      4  0.166667\n",
       "5      5  0.000000\n",
       "6      8  0.000000"
      ]
     },
     "execution_count": 14,
     "metadata": {},
     "output_type": "execute_result"
    }
   ],
   "source": [
    "# SibSp vs Survived\n",
    "train_df[[\"SibSp\", \"Survived\"]].groupby([\"SibSp\"], as_index= False).mean().sort_values(by= \"Survived\", ascending= False)"
   ]
  },
  {
   "cell_type": "code",
   "execution_count": 15,
   "id": "9157bbdc",
   "metadata": {
    "execution": {
     "iopub.execute_input": "2024-12-03T13:30:56.303369Z",
     "iopub.status.busy": "2024-12-03T13:30:56.302998Z",
     "iopub.status.idle": "2024-12-03T13:30:56.319452Z",
     "shell.execute_reply": "2024-12-03T13:30:56.318304Z"
    },
    "papermill": {
     "duration": 0.034715,
     "end_time": "2024-12-03T13:30:56.321800",
     "exception": false,
     "start_time": "2024-12-03T13:30:56.287085",
     "status": "completed"
    },
    "tags": []
   },
   "outputs": [
    {
     "data": {
      "text/html": [
       "<div>\n",
       "<style scoped>\n",
       "    .dataframe tbody tr th:only-of-type {\n",
       "        vertical-align: middle;\n",
       "    }\n",
       "\n",
       "    .dataframe tbody tr th {\n",
       "        vertical-align: top;\n",
       "    }\n",
       "\n",
       "    .dataframe thead th {\n",
       "        text-align: right;\n",
       "    }\n",
       "</style>\n",
       "<table border=\"1\" class=\"dataframe\">\n",
       "  <thead>\n",
       "    <tr style=\"text-align: right;\">\n",
       "      <th></th>\n",
       "      <th>Parch</th>\n",
       "      <th>Survived</th>\n",
       "    </tr>\n",
       "  </thead>\n",
       "  <tbody>\n",
       "    <tr>\n",
       "      <th>3</th>\n",
       "      <td>3</td>\n",
       "      <td>0.600000</td>\n",
       "    </tr>\n",
       "    <tr>\n",
       "      <th>1</th>\n",
       "      <td>1</td>\n",
       "      <td>0.550847</td>\n",
       "    </tr>\n",
       "    <tr>\n",
       "      <th>2</th>\n",
       "      <td>2</td>\n",
       "      <td>0.500000</td>\n",
       "    </tr>\n",
       "    <tr>\n",
       "      <th>0</th>\n",
       "      <td>0</td>\n",
       "      <td>0.343658</td>\n",
       "    </tr>\n",
       "    <tr>\n",
       "      <th>5</th>\n",
       "      <td>5</td>\n",
       "      <td>0.200000</td>\n",
       "    </tr>\n",
       "    <tr>\n",
       "      <th>4</th>\n",
       "      <td>4</td>\n",
       "      <td>0.000000</td>\n",
       "    </tr>\n",
       "    <tr>\n",
       "      <th>6</th>\n",
       "      <td>6</td>\n",
       "      <td>0.000000</td>\n",
       "    </tr>\n",
       "  </tbody>\n",
       "</table>\n",
       "</div>"
      ],
      "text/plain": [
       "   Parch  Survived\n",
       "3      3  0.600000\n",
       "1      1  0.550847\n",
       "2      2  0.500000\n",
       "0      0  0.343658\n",
       "5      5  0.200000\n",
       "4      4  0.000000\n",
       "6      6  0.000000"
      ]
     },
     "execution_count": 15,
     "metadata": {},
     "output_type": "execute_result"
    }
   ],
   "source": [
    "# Parch vs Survived\n",
    "train_df[[\"Parch\", \"Survived\"]].groupby([\"Parch\"], as_index= False).mean().sort_values(by= \"Survived\", ascending= False)"
   ]
  },
  {
   "cell_type": "markdown",
   "id": "a2945fbd",
   "metadata": {
    "papermill": {
     "duration": 0.015398,
     "end_time": "2024-12-03T13:30:56.352029",
     "exception": false,
     "start_time": "2024-12-03T13:30:56.336631",
     "status": "completed"
    },
    "tags": []
   },
   "source": [
    "<a id=\"7\"></a>\n",
    "# Outlier Detection"
   ]
  },
  {
   "cell_type": "code",
   "execution_count": 16,
   "id": "b493cb59",
   "metadata": {
    "execution": {
     "iopub.execute_input": "2024-12-03T13:30:56.384802Z",
     "iopub.status.busy": "2024-12-03T13:30:56.384305Z",
     "iopub.status.idle": "2024-12-03T13:30:56.392782Z",
     "shell.execute_reply": "2024-12-03T13:30:56.391602Z"
    },
    "papermill": {
     "duration": 0.027905,
     "end_time": "2024-12-03T13:30:56.395483",
     "exception": false,
     "start_time": "2024-12-03T13:30:56.367578",
     "status": "completed"
    },
    "tags": []
   },
   "outputs": [],
   "source": [
    "def detect_outliers(df, features):\n",
    "    outlier_indices= []\n",
    "\n",
    "    for c in features:\n",
    "        #1st quantile\n",
    "        Q1= np.percentile(df[c],25)\n",
    "        #3rd quantile\n",
    "        Q3= np.percentile(df[c],75)\n",
    "        # IQR\n",
    "        IQR= Q3 - Q1\n",
    "        # Outlier step \n",
    "        outlier_step = IQR * 1.5\n",
    "        # detect outlier and their indices\n",
    "        outlier_list_col= df[(df[c] < Q1 - outlier_step) | (df[c] > Q3 + outlier_step)].index\n",
    "        # store indeces\n",
    "        outlier_indices.extend(outlier_list_col)\n",
    "\n",
    "    outlier_indices= Counter(outlier_indices)\n",
    "    multiple_outliers= list(i for i, v in outlier_indices.items() if v> 2)\n",
    "\n",
    "    return multiple_outliers"
   ]
  },
  {
   "cell_type": "code",
   "execution_count": 17,
   "id": "09345c8d",
   "metadata": {
    "execution": {
     "iopub.execute_input": "2024-12-03T13:30:56.427600Z",
     "iopub.status.busy": "2024-12-03T13:30:56.427153Z",
     "iopub.status.idle": "2024-12-03T13:30:56.455103Z",
     "shell.execute_reply": "2024-12-03T13:30:56.453682Z"
    },
    "papermill": {
     "duration": 0.047081,
     "end_time": "2024-12-03T13:30:56.457582",
     "exception": false,
     "start_time": "2024-12-03T13:30:56.410501",
     "status": "completed"
    },
    "tags": []
   },
   "outputs": [
    {
     "data": {
      "text/html": [
       "<div>\n",
       "<style scoped>\n",
       "    .dataframe tbody tr th:only-of-type {\n",
       "        vertical-align: middle;\n",
       "    }\n",
       "\n",
       "    .dataframe tbody tr th {\n",
       "        vertical-align: top;\n",
       "    }\n",
       "\n",
       "    .dataframe thead th {\n",
       "        text-align: right;\n",
       "    }\n",
       "</style>\n",
       "<table border=\"1\" class=\"dataframe\">\n",
       "  <thead>\n",
       "    <tr style=\"text-align: right;\">\n",
       "      <th></th>\n",
       "      <th>PassengerId</th>\n",
       "      <th>Survived</th>\n",
       "      <th>Pclass</th>\n",
       "      <th>Name</th>\n",
       "      <th>Sex</th>\n",
       "      <th>Age</th>\n",
       "      <th>SibSp</th>\n",
       "      <th>Parch</th>\n",
       "      <th>Ticket</th>\n",
       "      <th>Fare</th>\n",
       "      <th>Cabin</th>\n",
       "      <th>Embarked</th>\n",
       "    </tr>\n",
       "  </thead>\n",
       "  <tbody>\n",
       "    <tr>\n",
       "      <th>27</th>\n",
       "      <td>28</td>\n",
       "      <td>0</td>\n",
       "      <td>1</td>\n",
       "      <td>Fortune, Mr. Charles Alexander</td>\n",
       "      <td>male</td>\n",
       "      <td>19.0</td>\n",
       "      <td>3</td>\n",
       "      <td>2</td>\n",
       "      <td>19950</td>\n",
       "      <td>263.00</td>\n",
       "      <td>C23 C25 C27</td>\n",
       "      <td>S</td>\n",
       "    </tr>\n",
       "    <tr>\n",
       "      <th>88</th>\n",
       "      <td>89</td>\n",
       "      <td>1</td>\n",
       "      <td>1</td>\n",
       "      <td>Fortune, Miss. Mabel Helen</td>\n",
       "      <td>female</td>\n",
       "      <td>23.0</td>\n",
       "      <td>3</td>\n",
       "      <td>2</td>\n",
       "      <td>19950</td>\n",
       "      <td>263.00</td>\n",
       "      <td>C23 C25 C27</td>\n",
       "      <td>S</td>\n",
       "    </tr>\n",
       "    <tr>\n",
       "      <th>159</th>\n",
       "      <td>160</td>\n",
       "      <td>0</td>\n",
       "      <td>3</td>\n",
       "      <td>Sage, Master. Thomas Henry</td>\n",
       "      <td>male</td>\n",
       "      <td>NaN</td>\n",
       "      <td>8</td>\n",
       "      <td>2</td>\n",
       "      <td>CA. 2343</td>\n",
       "      <td>69.55</td>\n",
       "      <td>NaN</td>\n",
       "      <td>S</td>\n",
       "    </tr>\n",
       "    <tr>\n",
       "      <th>180</th>\n",
       "      <td>181</td>\n",
       "      <td>0</td>\n",
       "      <td>3</td>\n",
       "      <td>Sage, Miss. Constance Gladys</td>\n",
       "      <td>female</td>\n",
       "      <td>NaN</td>\n",
       "      <td>8</td>\n",
       "      <td>2</td>\n",
       "      <td>CA. 2343</td>\n",
       "      <td>69.55</td>\n",
       "      <td>NaN</td>\n",
       "      <td>S</td>\n",
       "    </tr>\n",
       "    <tr>\n",
       "      <th>201</th>\n",
       "      <td>202</td>\n",
       "      <td>0</td>\n",
       "      <td>3</td>\n",
       "      <td>Sage, Mr. Frederick</td>\n",
       "      <td>male</td>\n",
       "      <td>NaN</td>\n",
       "      <td>8</td>\n",
       "      <td>2</td>\n",
       "      <td>CA. 2343</td>\n",
       "      <td>69.55</td>\n",
       "      <td>NaN</td>\n",
       "      <td>S</td>\n",
       "    </tr>\n",
       "    <tr>\n",
       "      <th>324</th>\n",
       "      <td>325</td>\n",
       "      <td>0</td>\n",
       "      <td>3</td>\n",
       "      <td>Sage, Mr. George John Jr</td>\n",
       "      <td>male</td>\n",
       "      <td>NaN</td>\n",
       "      <td>8</td>\n",
       "      <td>2</td>\n",
       "      <td>CA. 2343</td>\n",
       "      <td>69.55</td>\n",
       "      <td>NaN</td>\n",
       "      <td>S</td>\n",
       "    </tr>\n",
       "    <tr>\n",
       "      <th>341</th>\n",
       "      <td>342</td>\n",
       "      <td>1</td>\n",
       "      <td>1</td>\n",
       "      <td>Fortune, Miss. Alice Elizabeth</td>\n",
       "      <td>female</td>\n",
       "      <td>24.0</td>\n",
       "      <td>3</td>\n",
       "      <td>2</td>\n",
       "      <td>19950</td>\n",
       "      <td>263.00</td>\n",
       "      <td>C23 C25 C27</td>\n",
       "      <td>S</td>\n",
       "    </tr>\n",
       "    <tr>\n",
       "      <th>792</th>\n",
       "      <td>793</td>\n",
       "      <td>0</td>\n",
       "      <td>3</td>\n",
       "      <td>Sage, Miss. Stella Anna</td>\n",
       "      <td>female</td>\n",
       "      <td>NaN</td>\n",
       "      <td>8</td>\n",
       "      <td>2</td>\n",
       "      <td>CA. 2343</td>\n",
       "      <td>69.55</td>\n",
       "      <td>NaN</td>\n",
       "      <td>S</td>\n",
       "    </tr>\n",
       "    <tr>\n",
       "      <th>846</th>\n",
       "      <td>847</td>\n",
       "      <td>0</td>\n",
       "      <td>3</td>\n",
       "      <td>Sage, Mr. Douglas Bullen</td>\n",
       "      <td>male</td>\n",
       "      <td>NaN</td>\n",
       "      <td>8</td>\n",
       "      <td>2</td>\n",
       "      <td>CA. 2343</td>\n",
       "      <td>69.55</td>\n",
       "      <td>NaN</td>\n",
       "      <td>S</td>\n",
       "    </tr>\n",
       "    <tr>\n",
       "      <th>863</th>\n",
       "      <td>864</td>\n",
       "      <td>0</td>\n",
       "      <td>3</td>\n",
       "      <td>Sage, Miss. Dorothy Edith \"Dolly\"</td>\n",
       "      <td>female</td>\n",
       "      <td>NaN</td>\n",
       "      <td>8</td>\n",
       "      <td>2</td>\n",
       "      <td>CA. 2343</td>\n",
       "      <td>69.55</td>\n",
       "      <td>NaN</td>\n",
       "      <td>S</td>\n",
       "    </tr>\n",
       "  </tbody>\n",
       "</table>\n",
       "</div>"
      ],
      "text/plain": [
       "     PassengerId  Survived  Pclass                               Name     Sex  \\\n",
       "27            28         0       1     Fortune, Mr. Charles Alexander    male   \n",
       "88            89         1       1         Fortune, Miss. Mabel Helen  female   \n",
       "159          160         0       3         Sage, Master. Thomas Henry    male   \n",
       "180          181         0       3       Sage, Miss. Constance Gladys  female   \n",
       "201          202         0       3                Sage, Mr. Frederick    male   \n",
       "324          325         0       3           Sage, Mr. George John Jr    male   \n",
       "341          342         1       1     Fortune, Miss. Alice Elizabeth  female   \n",
       "792          793         0       3            Sage, Miss. Stella Anna  female   \n",
       "846          847         0       3           Sage, Mr. Douglas Bullen    male   \n",
       "863          864         0       3  Sage, Miss. Dorothy Edith \"Dolly\"  female   \n",
       "\n",
       "      Age  SibSp  Parch    Ticket    Fare        Cabin Embarked  \n",
       "27   19.0      3      2     19950  263.00  C23 C25 C27        S  \n",
       "88   23.0      3      2     19950  263.00  C23 C25 C27        S  \n",
       "159   NaN      8      2  CA. 2343   69.55          NaN        S  \n",
       "180   NaN      8      2  CA. 2343   69.55          NaN        S  \n",
       "201   NaN      8      2  CA. 2343   69.55          NaN        S  \n",
       "324   NaN      8      2  CA. 2343   69.55          NaN        S  \n",
       "341  24.0      3      2     19950  263.00  C23 C25 C27        S  \n",
       "792   NaN      8      2  CA. 2343   69.55          NaN        S  \n",
       "846   NaN      8      2  CA. 2343   69.55          NaN        S  \n",
       "863   NaN      8      2  CA. 2343   69.55          NaN        S  "
      ]
     },
     "execution_count": 17,
     "metadata": {},
     "output_type": "execute_result"
    }
   ],
   "source": [
    "train_df.loc[detect_outliers(train_df,[\"Age\",\"SibSp\", \"Parch\", \"Fare\"])]"
   ]
  },
  {
   "cell_type": "code",
   "execution_count": 18,
   "id": "5d2c7912",
   "metadata": {
    "execution": {
     "iopub.execute_input": "2024-12-03T13:30:56.489896Z",
     "iopub.status.busy": "2024-12-03T13:30:56.489436Z",
     "iopub.status.idle": "2024-12-03T13:30:56.504755Z",
     "shell.execute_reply": "2024-12-03T13:30:56.503505Z"
    },
    "papermill": {
     "duration": 0.0345,
     "end_time": "2024-12-03T13:30:56.507302",
     "exception": false,
     "start_time": "2024-12-03T13:30:56.472802",
     "status": "completed"
    },
    "tags": []
   },
   "outputs": [],
   "source": [
    "# drop outliers\n",
    "train_df= train_df.drop(detect_outliers(train_df,[\"Age\",\"SibSp\", \"Parch\", \"Fare\"]), axis= 0).reset_index(drop= True)"
   ]
  },
  {
   "cell_type": "markdown",
   "id": "4a67bd88",
   "metadata": {
    "papermill": {
     "duration": 0.015216,
     "end_time": "2024-12-03T13:30:56.538169",
     "exception": false,
     "start_time": "2024-12-03T13:30:56.522953",
     "status": "completed"
    },
    "tags": []
   },
   "source": [
    "<a id=\"8\"></a>\n",
    "# Missing Value\n",
    "\n",
    "* Find Missing Value\n",
    "* Fill Missing Value"
   ]
  },
  {
   "cell_type": "code",
   "execution_count": 19,
   "id": "45646bc9",
   "metadata": {
    "execution": {
     "iopub.execute_input": "2024-12-03T13:30:56.572089Z",
     "iopub.status.busy": "2024-12-03T13:30:56.571627Z",
     "iopub.status.idle": "2024-12-03T13:30:56.582990Z",
     "shell.execute_reply": "2024-12-03T13:30:56.581544Z"
    },
    "papermill": {
     "duration": 0.03233,
     "end_time": "2024-12-03T13:30:56.585956",
     "exception": false,
     "start_time": "2024-12-03T13:30:56.553626",
     "status": "completed"
    },
    "tags": []
   },
   "outputs": [],
   "source": [
    "train_df_len= len(train_df)\n",
    "train_df= pd.concat([train_df, test_df], axis= 0).reset_index(drop= True)"
   ]
  },
  {
   "cell_type": "code",
   "execution_count": 20,
   "id": "a8312f44",
   "metadata": {
    "execution": {
     "iopub.execute_input": "2024-12-03T13:30:56.618992Z",
     "iopub.status.busy": "2024-12-03T13:30:56.618571Z",
     "iopub.status.idle": "2024-12-03T13:30:56.636142Z",
     "shell.execute_reply": "2024-12-03T13:30:56.634976Z"
    },
    "papermill": {
     "duration": 0.037295,
     "end_time": "2024-12-03T13:30:56.638740",
     "exception": false,
     "start_time": "2024-12-03T13:30:56.601445",
     "status": "completed"
    },
    "tags": []
   },
   "outputs": [
    {
     "data": {
      "text/html": [
       "<div>\n",
       "<style scoped>\n",
       "    .dataframe tbody tr th:only-of-type {\n",
       "        vertical-align: middle;\n",
       "    }\n",
       "\n",
       "    .dataframe tbody tr th {\n",
       "        vertical-align: top;\n",
       "    }\n",
       "\n",
       "    .dataframe thead th {\n",
       "        text-align: right;\n",
       "    }\n",
       "</style>\n",
       "<table border=\"1\" class=\"dataframe\">\n",
       "  <thead>\n",
       "    <tr style=\"text-align: right;\">\n",
       "      <th></th>\n",
       "      <th>PassengerId</th>\n",
       "      <th>Survived</th>\n",
       "      <th>Pclass</th>\n",
       "      <th>Name</th>\n",
       "      <th>Sex</th>\n",
       "      <th>Age</th>\n",
       "      <th>SibSp</th>\n",
       "      <th>Parch</th>\n",
       "      <th>Ticket</th>\n",
       "      <th>Fare</th>\n",
       "      <th>Cabin</th>\n",
       "      <th>Embarked</th>\n",
       "    </tr>\n",
       "  </thead>\n",
       "  <tbody>\n",
       "    <tr>\n",
       "      <th>0</th>\n",
       "      <td>1</td>\n",
       "      <td>0.0</td>\n",
       "      <td>3</td>\n",
       "      <td>Braund, Mr. Owen Harris</td>\n",
       "      <td>male</td>\n",
       "      <td>22.0</td>\n",
       "      <td>1</td>\n",
       "      <td>0</td>\n",
       "      <td>A/5 21171</td>\n",
       "      <td>7.2500</td>\n",
       "      <td>NaN</td>\n",
       "      <td>S</td>\n",
       "    </tr>\n",
       "    <tr>\n",
       "      <th>1</th>\n",
       "      <td>2</td>\n",
       "      <td>1.0</td>\n",
       "      <td>1</td>\n",
       "      <td>Cumings, Mrs. John Bradley (Florence Briggs Th...</td>\n",
       "      <td>female</td>\n",
       "      <td>38.0</td>\n",
       "      <td>1</td>\n",
       "      <td>0</td>\n",
       "      <td>PC 17599</td>\n",
       "      <td>71.2833</td>\n",
       "      <td>C85</td>\n",
       "      <td>C</td>\n",
       "    </tr>\n",
       "    <tr>\n",
       "      <th>2</th>\n",
       "      <td>3</td>\n",
       "      <td>1.0</td>\n",
       "      <td>3</td>\n",
       "      <td>Heikkinen, Miss. Laina</td>\n",
       "      <td>female</td>\n",
       "      <td>26.0</td>\n",
       "      <td>0</td>\n",
       "      <td>0</td>\n",
       "      <td>STON/O2. 3101282</td>\n",
       "      <td>7.9250</td>\n",
       "      <td>NaN</td>\n",
       "      <td>S</td>\n",
       "    </tr>\n",
       "    <tr>\n",
       "      <th>3</th>\n",
       "      <td>4</td>\n",
       "      <td>1.0</td>\n",
       "      <td>1</td>\n",
       "      <td>Futrelle, Mrs. Jacques Heath (Lily May Peel)</td>\n",
       "      <td>female</td>\n",
       "      <td>35.0</td>\n",
       "      <td>1</td>\n",
       "      <td>0</td>\n",
       "      <td>113803</td>\n",
       "      <td>53.1000</td>\n",
       "      <td>C123</td>\n",
       "      <td>S</td>\n",
       "    </tr>\n",
       "    <tr>\n",
       "      <th>4</th>\n",
       "      <td>5</td>\n",
       "      <td>0.0</td>\n",
       "      <td>3</td>\n",
       "      <td>Allen, Mr. William Henry</td>\n",
       "      <td>male</td>\n",
       "      <td>35.0</td>\n",
       "      <td>0</td>\n",
       "      <td>0</td>\n",
       "      <td>373450</td>\n",
       "      <td>8.0500</td>\n",
       "      <td>NaN</td>\n",
       "      <td>S</td>\n",
       "    </tr>\n",
       "  </tbody>\n",
       "</table>\n",
       "</div>"
      ],
      "text/plain": [
       "   PassengerId  Survived  Pclass  \\\n",
       "0            1       0.0       3   \n",
       "1            2       1.0       1   \n",
       "2            3       1.0       3   \n",
       "3            4       1.0       1   \n",
       "4            5       0.0       3   \n",
       "\n",
       "                                                Name     Sex   Age  SibSp  \\\n",
       "0                            Braund, Mr. Owen Harris    male  22.0      1   \n",
       "1  Cumings, Mrs. John Bradley (Florence Briggs Th...  female  38.0      1   \n",
       "2                             Heikkinen, Miss. Laina  female  26.0      0   \n",
       "3       Futrelle, Mrs. Jacques Heath (Lily May Peel)  female  35.0      1   \n",
       "4                           Allen, Mr. William Henry    male  35.0      0   \n",
       "\n",
       "   Parch            Ticket     Fare Cabin Embarked  \n",
       "0      0         A/5 21171   7.2500   NaN        S  \n",
       "1      0          PC 17599  71.2833   C85        C  \n",
       "2      0  STON/O2. 3101282   7.9250   NaN        S  \n",
       "3      0            113803  53.1000  C123        S  \n",
       "4      0            373450   8.0500   NaN        S  "
      ]
     },
     "execution_count": 20,
     "metadata": {},
     "output_type": "execute_result"
    }
   ],
   "source": [
    "train_df.head()"
   ]
  },
  {
   "cell_type": "markdown",
   "id": "6c1685b9",
   "metadata": {
    "papermill": {
     "duration": 0.015919,
     "end_time": "2024-12-03T13:30:56.670151",
     "exception": false,
     "start_time": "2024-12-03T13:30:56.654232",
     "status": "completed"
    },
    "tags": []
   },
   "source": [
    "<a id=\"9\"></a>\n",
    "## Find Missing Value"
   ]
  },
  {
   "cell_type": "code",
   "execution_count": 21,
   "id": "27a887dc",
   "metadata": {
    "execution": {
     "iopub.execute_input": "2024-12-03T13:30:56.703040Z",
     "iopub.status.busy": "2024-12-03T13:30:56.702660Z",
     "iopub.status.idle": "2024-12-03T13:30:56.712452Z",
     "shell.execute_reply": "2024-12-03T13:30:56.711292Z"
    },
    "papermill": {
     "duration": 0.029053,
     "end_time": "2024-12-03T13:30:56.714727",
     "exception": false,
     "start_time": "2024-12-03T13:30:56.685674",
     "status": "completed"
    },
    "tags": []
   },
   "outputs": [
    {
     "data": {
      "text/plain": [
       "Index(['Survived', 'Age', 'Fare', 'Cabin', 'Embarked'], dtype='object')"
      ]
     },
     "execution_count": 21,
     "metadata": {},
     "output_type": "execute_result"
    }
   ],
   "source": [
    "train_df.columns[train_df.isnull().any()]"
   ]
  },
  {
   "cell_type": "code",
   "execution_count": 22,
   "id": "9e8ce893",
   "metadata": {
    "execution": {
     "iopub.execute_input": "2024-12-03T13:30:56.749232Z",
     "iopub.status.busy": "2024-12-03T13:30:56.748834Z",
     "iopub.status.idle": "2024-12-03T13:30:56.758871Z",
     "shell.execute_reply": "2024-12-03T13:30:56.757781Z"
    },
    "papermill": {
     "duration": 0.02997,
     "end_time": "2024-12-03T13:30:56.761002",
     "exception": false,
     "start_time": "2024-12-03T13:30:56.731032",
     "status": "completed"
    },
    "tags": []
   },
   "outputs": [
    {
     "data": {
      "text/plain": [
       "PassengerId       0\n",
       "Survived        418\n",
       "Pclass            0\n",
       "Name              0\n",
       "Sex               0\n",
       "Age             256\n",
       "SibSp             0\n",
       "Parch             0\n",
       "Ticket            0\n",
       "Fare              1\n",
       "Cabin          1007\n",
       "Embarked          2\n",
       "dtype: int64"
      ]
     },
     "execution_count": 22,
     "metadata": {},
     "output_type": "execute_result"
    }
   ],
   "source": [
    "train_df.isnull().sum()"
   ]
  },
  {
   "cell_type": "markdown",
   "id": "56ab85ef",
   "metadata": {
    "papermill": {
     "duration": 0.015655,
     "end_time": "2024-12-03T13:30:56.792871",
     "exception": false,
     "start_time": "2024-12-03T13:30:56.777216",
     "status": "completed"
    },
    "tags": []
   },
   "source": [
    "<a id=\"10\"></a>\n",
    "## Fill Missing Value\n",
    "* Embarked has 2 missing value\n",
    "* Fare has 1 missing value"
   ]
  },
  {
   "cell_type": "code",
   "execution_count": 23,
   "id": "1ca47644",
   "metadata": {
    "execution": {
     "iopub.execute_input": "2024-12-03T13:30:56.826943Z",
     "iopub.status.busy": "2024-12-03T13:30:56.826554Z",
     "iopub.status.idle": "2024-12-03T13:30:56.844019Z",
     "shell.execute_reply": "2024-12-03T13:30:56.842697Z"
    },
    "papermill": {
     "duration": 0.037648,
     "end_time": "2024-12-03T13:30:56.846525",
     "exception": false,
     "start_time": "2024-12-03T13:30:56.808877",
     "status": "completed"
    },
    "tags": []
   },
   "outputs": [
    {
     "data": {
      "text/html": [
       "<div>\n",
       "<style scoped>\n",
       "    .dataframe tbody tr th:only-of-type {\n",
       "        vertical-align: middle;\n",
       "    }\n",
       "\n",
       "    .dataframe tbody tr th {\n",
       "        vertical-align: top;\n",
       "    }\n",
       "\n",
       "    .dataframe thead th {\n",
       "        text-align: right;\n",
       "    }\n",
       "</style>\n",
       "<table border=\"1\" class=\"dataframe\">\n",
       "  <thead>\n",
       "    <tr style=\"text-align: right;\">\n",
       "      <th></th>\n",
       "      <th>PassengerId</th>\n",
       "      <th>Survived</th>\n",
       "      <th>Pclass</th>\n",
       "      <th>Name</th>\n",
       "      <th>Sex</th>\n",
       "      <th>Age</th>\n",
       "      <th>SibSp</th>\n",
       "      <th>Parch</th>\n",
       "      <th>Ticket</th>\n",
       "      <th>Fare</th>\n",
       "      <th>Cabin</th>\n",
       "      <th>Embarked</th>\n",
       "    </tr>\n",
       "  </thead>\n",
       "  <tbody>\n",
       "    <tr>\n",
       "      <th>60</th>\n",
       "      <td>62</td>\n",
       "      <td>1.0</td>\n",
       "      <td>1</td>\n",
       "      <td>Icard, Miss. Amelie</td>\n",
       "      <td>female</td>\n",
       "      <td>38.0</td>\n",
       "      <td>0</td>\n",
       "      <td>0</td>\n",
       "      <td>113572</td>\n",
       "      <td>80.0</td>\n",
       "      <td>B28</td>\n",
       "      <td>NaN</td>\n",
       "    </tr>\n",
       "    <tr>\n",
       "      <th>821</th>\n",
       "      <td>830</td>\n",
       "      <td>1.0</td>\n",
       "      <td>1</td>\n",
       "      <td>Stone, Mrs. George Nelson (Martha Evelyn)</td>\n",
       "      <td>female</td>\n",
       "      <td>62.0</td>\n",
       "      <td>0</td>\n",
       "      <td>0</td>\n",
       "      <td>113572</td>\n",
       "      <td>80.0</td>\n",
       "      <td>B28</td>\n",
       "      <td>NaN</td>\n",
       "    </tr>\n",
       "  </tbody>\n",
       "</table>\n",
       "</div>"
      ],
      "text/plain": [
       "     PassengerId  Survived  Pclass                                       Name  \\\n",
       "60            62       1.0       1                        Icard, Miss. Amelie   \n",
       "821          830       1.0       1  Stone, Mrs. George Nelson (Martha Evelyn)   \n",
       "\n",
       "        Sex   Age  SibSp  Parch  Ticket  Fare Cabin Embarked  \n",
       "60   female  38.0      0      0  113572  80.0   B28      NaN  \n",
       "821  female  62.0      0      0  113572  80.0   B28      NaN  "
      ]
     },
     "execution_count": 23,
     "metadata": {},
     "output_type": "execute_result"
    }
   ],
   "source": [
    "train_df[train_df[\"Embarked\"].isnull()]"
   ]
  },
  {
   "cell_type": "code",
   "execution_count": 24,
   "id": "31e3403e",
   "metadata": {
    "execution": {
     "iopub.execute_input": "2024-12-03T13:30:56.882430Z",
     "iopub.status.busy": "2024-12-03T13:30:56.881975Z",
     "iopub.status.idle": "2024-12-03T13:30:57.158596Z",
     "shell.execute_reply": "2024-12-03T13:30:57.157131Z"
    },
    "papermill": {
     "duration": 0.298161,
     "end_time": "2024-12-03T13:30:57.161276",
     "exception": false,
     "start_time": "2024-12-03T13:30:56.863115",
     "status": "completed"
    },
    "tags": []
   },
   "outputs": [
    {
     "data": {
      "image/png": "[encoded data removed]",
      "text/plain": [
       "<Figure size 640x480 with 1 Axes>"
      ]
     },
     "metadata": {},
     "output_type": "display_data"
    }
   ],
   "source": [
    "train_df.boxplot(column= \"Fare\", by= \"Embarked\")\n",
    "plt.show()"
   ]
  },
  {
   "cell_type": "code",
   "execution_count": 25,
   "id": "1446817d",
   "metadata": {
    "execution": {
     "iopub.execute_input": "2024-12-03T13:30:57.197234Z",
     "iopub.status.busy": "2024-12-03T13:30:57.196815Z",
     "iopub.status.idle": "2024-12-03T13:30:57.210989Z",
     "shell.execute_reply": "2024-12-03T13:30:57.209612Z"
    },
    "papermill": {
     "duration": 0.035432,
     "end_time": "2024-12-03T13:30:57.213503",
     "exception": false,
     "start_time": "2024-12-03T13:30:57.178071",
     "status": "completed"
    },
    "tags": []
   },
   "outputs": [
    {
     "data": {
      "text/html": [
       "<div>\n",
       "<style scoped>\n",
       "    .dataframe tbody tr th:only-of-type {\n",
       "        vertical-align: middle;\n",
       "    }\n",
       "\n",
       "    .dataframe tbody tr th {\n",
       "        vertical-align: top;\n",
       "    }\n",
       "\n",
       "    .dataframe thead th {\n",
       "        text-align: right;\n",
       "    }\n",
       "</style>\n",
       "<table border=\"1\" class=\"dataframe\">\n",
       "  <thead>\n",
       "    <tr style=\"text-align: right;\">\n",
       "      <th></th>\n",
       "      <th>PassengerId</th>\n",
       "      <th>Survived</th>\n",
       "      <th>Pclass</th>\n",
       "      <th>Name</th>\n",
       "      <th>Sex</th>\n",
       "      <th>Age</th>\n",
       "      <th>SibSp</th>\n",
       "      <th>Parch</th>\n",
       "      <th>Ticket</th>\n",
       "      <th>Fare</th>\n",
       "      <th>Cabin</th>\n",
       "      <th>Embarked</th>\n",
       "    </tr>\n",
       "  </thead>\n",
       "  <tbody>\n",
       "  </tbody>\n",
       "</table>\n",
       "</div>"
      ],
      "text/plain": [
       "Empty DataFrame\n",
       "Columns: [PassengerId, Survived, Pclass, Name, Sex, Age, SibSp, Parch, Ticket, Fare, Cabin, Embarked]\n",
       "Index: []"
      ]
     },
     "execution_count": 25,
     "metadata": {},
     "output_type": "execute_result"
    }
   ],
   "source": [
    "train_df[\"Embarked\"] = train_df[\"Embarked\"].fillna(\"C\")\n",
    "train_df[train_df[\"Embarked\"].isnull()]"
   ]
  },
  {
   "cell_type": "code",
   "execution_count": 26,
   "id": "aa19406f",
   "metadata": {
    "execution": {
     "iopub.execute_input": "2024-12-03T13:30:57.252177Z",
     "iopub.status.busy": "2024-12-03T13:30:57.251781Z",
     "iopub.status.idle": "2024-12-03T13:30:57.269000Z",
     "shell.execute_reply": "2024-12-03T13:30:57.267713Z"
    },
    "papermill": {
     "duration": 0.040699,
     "end_time": "2024-12-03T13:30:57.271487",
     "exception": false,
     "start_time": "2024-12-03T13:30:57.230788",
     "status": "completed"
    },
    "tags": []
   },
   "outputs": [
    {
     "data": {
      "text/html": [
       "<div>\n",
       "<style scoped>\n",
       "    .dataframe tbody tr th:only-of-type {\n",
       "        vertical-align: middle;\n",
       "    }\n",
       "\n",
       "    .dataframe tbody tr th {\n",
       "        vertical-align: top;\n",
       "    }\n",
       "\n",
       "    .dataframe thead th {\n",
       "        text-align: right;\n",
       "    }\n",
       "</style>\n",
       "<table border=\"1\" class=\"dataframe\">\n",
       "  <thead>\n",
       "    <tr style=\"text-align: right;\">\n",
       "      <th></th>\n",
       "      <th>PassengerId</th>\n",
       "      <th>Survived</th>\n",
       "      <th>Pclass</th>\n",
       "      <th>Name</th>\n",
       "      <th>Sex</th>\n",
       "      <th>Age</th>\n",
       "      <th>SibSp</th>\n",
       "      <th>Parch</th>\n",
       "      <th>Ticket</th>\n",
       "      <th>Fare</th>\n",
       "      <th>Cabin</th>\n",
       "      <th>Embarked</th>\n",
       "    </tr>\n",
       "  </thead>\n",
       "  <tbody>\n",
       "    <tr>\n",
       "      <th>1033</th>\n",
       "      <td>1044</td>\n",
       "      <td>NaN</td>\n",
       "      <td>3</td>\n",
       "      <td>Storey, Mr. Thomas</td>\n",
       "      <td>male</td>\n",
       "      <td>60.5</td>\n",
       "      <td>0</td>\n",
       "      <td>0</td>\n",
       "      <td>3701</td>\n",
       "      <td>NaN</td>\n",
       "      <td>NaN</td>\n",
       "      <td>S</td>\n",
       "    </tr>\n",
       "  </tbody>\n",
       "</table>\n",
       "</div>"
      ],
      "text/plain": [
       "      PassengerId  Survived  Pclass                Name   Sex   Age  SibSp  \\\n",
       "1033         1044       NaN       3  Storey, Mr. Thomas  male  60.5      0   \n",
       "\n",
       "      Parch Ticket  Fare Cabin Embarked  \n",
       "1033      0   3701   NaN   NaN        S  "
      ]
     },
     "execution_count": 26,
     "metadata": {},
     "output_type": "execute_result"
    }
   ],
   "source": [
    "train_df[train_df[\"Fare\"].isnull()]"
   ]
  },
  {
   "cell_type": "code",
   "execution_count": 27,
   "id": "b6101209",
   "metadata": {
    "execution": {
     "iopub.execute_input": "2024-12-03T13:30:57.306644Z",
     "iopub.status.busy": "2024-12-03T13:30:57.306240Z",
     "iopub.status.idle": "2024-12-03T13:30:57.314304Z",
     "shell.execute_reply": "2024-12-03T13:30:57.313185Z"
    },
    "papermill": {
     "duration": 0.028298,
     "end_time": "2024-12-03T13:30:57.316606",
     "exception": false,
     "start_time": "2024-12-03T13:30:57.288308",
     "status": "completed"
    },
    "tags": []
   },
   "outputs": [],
   "source": [
    "train_df[\"Fare\"]= train_df[\"Fare\"].fillna(np.mean(train_df[train_df[\"Pclass\"]== 3][\"Fare\"]))"
   ]
  },
  {
   "cell_type": "code",
   "execution_count": 28,
   "id": "e41cca31",
   "metadata": {
    "execution": {
     "iopub.execute_input": "2024-12-03T13:30:57.353373Z",
     "iopub.status.busy": "2024-12-03T13:30:57.353030Z",
     "iopub.status.idle": "2024-12-03T13:30:57.365285Z",
     "shell.execute_reply": "2024-12-03T13:30:57.364055Z"
    },
    "papermill": {
     "duration": 0.033958,
     "end_time": "2024-12-03T13:30:57.367847",
     "exception": false,
     "start_time": "2024-12-03T13:30:57.333889",
     "status": "completed"
    },
    "tags": []
   },
   "outputs": [
    {
     "data": {
      "text/html": [
       "<div>\n",
       "<style scoped>\n",
       "    .dataframe tbody tr th:only-of-type {\n",
       "        vertical-align: middle;\n",
       "    }\n",
       "\n",
       "    .dataframe tbody tr th {\n",
       "        vertical-align: top;\n",
       "    }\n",
       "\n",
       "    .dataframe thead th {\n",
       "        text-align: right;\n",
       "    }\n",
       "</style>\n",
       "<table border=\"1\" class=\"dataframe\">\n",
       "  <thead>\n",
       "    <tr style=\"text-align: right;\">\n",
       "      <th></th>\n",
       "      <th>PassengerId</th>\n",
       "      <th>Survived</th>\n",
       "      <th>Pclass</th>\n",
       "      <th>Name</th>\n",
       "      <th>Sex</th>\n",
       "      <th>Age</th>\n",
       "      <th>SibSp</th>\n",
       "      <th>Parch</th>\n",
       "      <th>Ticket</th>\n",
       "      <th>Fare</th>\n",
       "      <th>Cabin</th>\n",
       "      <th>Embarked</th>\n",
       "    </tr>\n",
       "  </thead>\n",
       "  <tbody>\n",
       "  </tbody>\n",
       "</table>\n",
       "</div>"
      ],
      "text/plain": [
       "Empty DataFrame\n",
       "Columns: [PassengerId, Survived, Pclass, Name, Sex, Age, SibSp, Parch, Ticket, Fare, Cabin, Embarked]\n",
       "Index: []"
      ]
     },
     "execution_count": 28,
     "metadata": {},
     "output_type": "execute_result"
    }
   ],
   "source": [
    "train_df[train_df[\"Fare\"].isnull()]"
   ]
  },
  {
   "cell_type": "markdown",
   "id": "df0059ca",
   "metadata": {
    "papermill": {
     "duration": 0.017268,
     "end_time": "2024-12-03T13:30:57.402745",
     "exception": false,
     "start_time": "2024-12-03T13:30:57.385477",
     "status": "completed"
    },
    "tags": []
   },
   "source": [
    "<a id=\"11\"></a>\n",
    "# Visualization"
   ]
  },
  {
   "cell_type": "markdown",
   "id": "1c355f18",
   "metadata": {
    "papermill": {
     "duration": 0.017434,
     "end_time": "2024-12-03T13:30:57.437964",
     "exception": false,
     "start_time": "2024-12-03T13:30:57.420530",
     "status": "completed"
    },
    "tags": []
   },
   "source": [
    "<a id=\"12\"></a>\n",
    "## Correlation Between Sibsp -- Parch -- Age -- Fare -- Survived"
   ]
  },
  {
   "cell_type": "code",
   "execution_count": 29,
   "id": "2ab94877",
   "metadata": {
    "execution": {
     "iopub.execute_input": "2024-12-03T13:30:57.474493Z",
     "iopub.status.busy": "2024-12-03T13:30:57.474089Z",
     "iopub.status.idle": "2024-12-03T13:30:57.822960Z",
     "shell.execute_reply": "2024-12-03T13:30:57.821528Z"
    },
    "papermill": {
     "duration": 0.370005,
     "end_time": "2024-12-03T13:30:57.825528",
     "exception": false,
     "start_time": "2024-12-03T13:30:57.455523",
     "status": "completed"
    },
    "tags": []
   },
   "outputs": [
    {
     "data": {
      "image/png": "[encoded data removed]",
      "text/plain": [
       "<Figure size 640x480 with 2 Axes>"
      ]
     },
     "metadata": {},
     "output_type": "display_data"
    }
   ],
   "source": [
    "list1 = [\"SibSp\", \"Parch\", \"Age\", \"Fare\", \"Survived\"]\n",
    "sns.heatmap(train_df[list1].corr(), annot = True, fmt = \".2f\")\n",
    "plt.show()"
   ]
  },
  {
   "cell_type": "markdown",
   "id": "30f65727",
   "metadata": {
    "papermill": {
     "duration": 0.017986,
     "end_time": "2024-12-03T13:30:57.862061",
     "exception": false,
     "start_time": "2024-12-03T13:30:57.844075",
     "status": "completed"
    },
    "tags": []
   },
   "source": [
    "Fare feature seems to have correlation with survived feature (0.26).\r\n"
   ]
  },
  {
   "cell_type": "markdown",
   "id": "7359c418",
   "metadata": {
    "papermill": {
     "duration": 0.01778,
     "end_time": "2024-12-03T13:30:57.899053",
     "exception": false,
     "start_time": "2024-12-03T13:30:57.881273",
     "status": "completed"
    },
    "tags": []
   },
   "source": [
    "<a id=\"13\"></a>\n",
    "## SibSp -- Survived\n"
   ]
  },
  {
   "cell_type": "code",
   "execution_count": 30,
   "id": "6a823370",
   "metadata": {
    "execution": {
     "iopub.execute_input": "2024-12-03T13:30:57.937248Z",
     "iopub.status.busy": "2024-12-03T13:30:57.936907Z",
     "iopub.status.idle": "2024-12-03T13:30:58.581559Z",
     "shell.execute_reply": "2024-12-03T13:30:58.580158Z"
    },
    "papermill": {
     "duration": 0.665787,
     "end_time": "2024-12-03T13:30:58.584167",
     "exception": false,
     "start_time": "2024-12-03T13:30:57.918380",
     "status": "completed"
    },
    "tags": []
   },
   "outputs": [
    {
     "data": {
      "image/png": "[encoded data removed]",
      "text/plain": [
       "<Figure size 500x500 with 1 Axes>"
      ]
     },
     "metadata": {},
     "output_type": "display_data"
    }
   ],
   "source": [
    "g = sns.catplot(x = \"SibSp\", y = \"Survived\", data = train_df, kind = \"bar\")\n",
    "g.set_ylabels(\"Survived Probability\")\n",
    "plt.show()"
   ]
  },
  {
   "cell_type": "markdown",
   "id": "00c09d46",
   "metadata": {
    "papermill": {
     "duration": 0.018843,
     "end_time": "2024-12-03T13:30:58.622859",
     "exception": false,
     "start_time": "2024-12-03T13:30:58.604016",
     "status": "completed"
    },
    "tags": []
   },
   "source": [
    "* Having a lot of SibSp have less chance to survive.\n",
    "* if sibsp == 0 or 1 or 2, passenger has more chance to survive\n",
    "* we can consider a new feature describing these categories.s."
   ]
  },
  {
   "cell_type": "markdown",
   "id": "e55e59a9",
   "metadata": {
    "papermill": {
     "duration": 0.018818,
     "end_time": "2024-12-03T13:30:58.660294",
     "exception": false,
     "start_time": "2024-12-03T13:30:58.641476",
     "status": "completed"
    },
    "tags": []
   },
   "source": [
    "<a id=\"14\"></a>\n",
    "## Parch -- Survived"
   ]
  },
  {
   "cell_type": "code",
   "execution_count": 31,
   "id": "f8a2d40b",
   "metadata": {
    "execution": {
     "iopub.execute_input": "2024-12-03T13:30:58.700471Z",
     "iopub.status.busy": "2024-12-03T13:30:58.700096Z",
     "iopub.status.idle": "2024-12-03T13:30:59.509520Z",
     "shell.execute_reply": "2024-12-03T13:30:59.507833Z"
    },
    "papermill": {
     "duration": 0.832783,
     "end_time": "2024-12-03T13:30:59.512199",
     "exception": false,
     "start_time": "2024-12-03T13:30:58.679416",
     "status": "completed"
    },
    "tags": []
   },
   "outputs": [
    {
     "data": {
      "image/png": "[encoded data removed]",
      "text/plain": [
       "<Figure size 500x500 with 1 Axes>"
      ]
     },
     "metadata": {},
     "output_type": "display_data"
    }
   ],
   "source": [
    "g = sns.catplot(x = \"Parch\", y = \"Survived\", kind = \"bar\", data = train_df)\n",
    "g.set_ylabels(\"Survived Probability\")\n",
    "plt.show()"
   ]
  },
  {
   "cell_type": "markdown",
   "id": "c555f17b",
   "metadata": {
    "papermill": {
     "duration": 0.018542,
     "end_time": "2024-12-03T13:30:59.550611",
     "exception": false,
     "start_time": "2024-12-03T13:30:59.532069",
     "status": "completed"
    },
    "tags": []
   },
   "source": [
    "* Sibsp and parch can be used for new feature extraction with th = 3\n",
    "* small familes have more chance to survive.\n",
    "* there is a std in survival of passenger with parch = 3 3"
   ]
  },
  {
   "cell_type": "markdown",
   "id": "d729bd26",
   "metadata": {
    "papermill": {
     "duration": 0.017911,
     "end_time": "2024-12-03T13:30:59.587162",
     "exception": false,
     "start_time": "2024-12-03T13:30:59.569251",
     "status": "completed"
    },
    "tags": []
   },
   "source": [
    "<a id=\"15\"></a>\n",
    "## Pclass -- Survived"
   ]
  },
  {
   "cell_type": "code",
   "execution_count": 32,
   "id": "a51bf88b",
   "metadata": {
    "execution": {
     "iopub.execute_input": "2024-12-03T13:30:59.626001Z",
     "iopub.status.busy": "2024-12-03T13:30:59.625552Z",
     "iopub.status.idle": "2024-12-03T13:31:00.109264Z",
     "shell.execute_reply": "2024-12-03T13:31:00.107942Z"
    },
    "papermill": {
     "duration": 0.506458,
     "end_time": "2024-12-03T13:31:00.111598",
     "exception": false,
     "start_time": "2024-12-03T13:30:59.605140",
     "status": "completed"
    },
    "tags": []
   },
   "outputs": [
    {
     "data": {
      "image/png": "[encoded data removed]",
      "text/plain": [
       "<Figure size 500x500 with 1 Axes>"
      ]
     },
     "metadata": {},
     "output_type": "display_data"
    }
   ],
   "source": [
    "g= sns.catplot(x= \"Pclass\", y= \"Survived\", data= train_df, kind= \"bar\")\n",
    "g.set_ylabels(\"Survived Probability\")\n",
    "plt.show()"
   ]
  },
  {
   "cell_type": "markdown",
   "id": "48e3f64b",
   "metadata": {
    "papermill": {
     "duration": 0.018494,
     "end_time": "2024-12-03T13:31:00.148535",
     "exception": false,
     "start_time": "2024-12-03T13:31:00.130041",
     "status": "completed"
    },
    "tags": []
   },
   "source": [
    "<a id=\"16\"></a>\n",
    "## Age -- Survived"
   ]
  },
  {
   "cell_type": "code",
   "execution_count": 33,
   "id": "56e41cae",
   "metadata": {
    "execution": {
     "iopub.execute_input": "2024-12-03T13:31:00.187357Z",
     "iopub.status.busy": "2024-12-03T13:31:00.186907Z",
     "iopub.status.idle": "2024-12-03T13:31:00.930733Z",
     "shell.execute_reply": "2024-12-03T13:31:00.929530Z"
    },
    "papermill": {
     "duration": 0.76645,
     "end_time": "2024-12-03T13:31:00.933323",
     "exception": false,
     "start_time": "2024-12-03T13:31:00.166873",
     "status": "completed"
    },
    "tags": []
   },
   "outputs": [
    {
     "data": {
      "image/png": "[encoded data removed]",
      "text/plain": [
       "<Figure size 1200x500 with 2 Axes>"
      ]
     },
     "metadata": {},
     "output_type": "display_data"
    }
   ],
   "source": [
    "g = sns.FacetGrid(train_df, col=\"Survived\", height=5, aspect=1.2)\n",
    "g.map(sns.histplot, \"Age\", bins=25, kde=True, element=\"step\", color=\"blue\")\n",
    "plt.show()"
   ]
  },
  {
   "cell_type": "code",
   "execution_count": 34,
   "id": "449747b0",
   "metadata": {
    "execution": {
     "iopub.execute_input": "2024-12-03T13:31:00.974544Z",
     "iopub.status.busy": "2024-12-03T13:31:00.974056Z",
     "iopub.status.idle": "2024-12-03T13:31:01.284973Z",
     "shell.execute_reply": "2024-12-03T13:31:01.283568Z"
    },
    "papermill": {
     "duration": 0.334849,
     "end_time": "2024-12-03T13:31:01.287632",
     "exception": false,
     "start_time": "2024-12-03T13:31:00.952783",
     "status": "completed"
    },
    "tags": []
   },
   "outputs": [
    {
     "data": {
      "image/png": "[encoded data removed]",
      "text/plain": [
       "<Figure size 640x480 with 1 Axes>"
      ]
     },
     "metadata": {},
     "output_type": "display_data"
    }
   ],
   "source": [
    "sns.histplot(data=train_df, x=\"Age\", hue=\"Survived\", bins=25, kde=True, element=\"step\", palette= \"Set2\")\n",
    "plt.show()"
   ]
  },
  {
   "cell_type": "markdown",
   "id": "59f2475a",
   "metadata": {
    "papermill": {
     "duration": 0.01985,
     "end_time": "2024-12-03T13:31:01.327718",
     "exception": false,
     "start_time": "2024-12-03T13:31:01.307868",
     "status": "completed"
    },
    "tags": []
   },
   "source": [
    "* age <= 10 has a high survival rate,\n",
    "* oldest passengers (80) survived,\n",
    "* large number of 20 years old did not survive,\n",
    "* most passengers are in 15-35 age range,\n",
    "* use age feature in training\n",
    "* use age distribution for missing value of agef age"
   ]
  },
  {
   "cell_type": "markdown",
   "id": "2e923ea8",
   "metadata": {
    "papermill": {
     "duration": 0.019916,
     "end_time": "2024-12-03T13:31:01.367565",
     "exception": false,
     "start_time": "2024-12-03T13:31:01.347649",
     "status": "completed"
    },
    "tags": []
   },
   "source": [
    "<a id=\"17\"></a>\n",
    "## Pclass -- Survived -- Age"
   ]
  },
  {
   "cell_type": "code",
   "execution_count": 35,
   "id": "793f3038",
   "metadata": {
    "execution": {
     "iopub.execute_input": "2024-12-03T13:31:01.409656Z",
     "iopub.status.busy": "2024-12-03T13:31:01.409165Z",
     "iopub.status.idle": "2024-12-03T13:31:03.629126Z",
     "shell.execute_reply": "2024-12-03T13:31:03.627777Z"
    },
    "papermill": {
     "duration": 2.244301,
     "end_time": "2024-12-03T13:31:03.631842",
     "exception": false,
     "start_time": "2024-12-03T13:31:01.387541",
     "status": "completed"
    },
    "tags": []
   },
   "outputs": [
    {
     "data": {
      "image/png": "[encoded data removed]",
      "text/plain": [
       "<Figure size 611.111x900 with 6 Axes>"
      ]
     },
     "metadata": {},
     "output_type": "display_data"
    }
   ],
   "source": [
    "g = sns.FacetGrid(train_df, col = \"Survived\", row = \"Pclass\")\n",
    "g.map(plt.hist, \"Age\", bins = 25)\n",
    "g.add_legend()\n",
    "plt.show()"
   ]
  },
  {
   "cell_type": "markdown",
   "id": "c2a564f6",
   "metadata": {
    "papermill": {
     "duration": 0.021178,
     "end_time": "2024-12-03T13:31:03.675799",
     "exception": false,
     "start_time": "2024-12-03T13:31:03.654621",
     "status": "completed"
    },
    "tags": []
   },
   "source": [
    "* pclass is important feature for model training."
   ]
  },
  {
   "cell_type": "markdown",
   "id": "97be9935",
   "metadata": {
    "papermill": {
     "duration": 0.0209,
     "end_time": "2024-12-03T13:31:03.718022",
     "exception": false,
     "start_time": "2024-12-03T13:31:03.697122",
     "status": "completed"
    },
    "tags": []
   },
   "source": [
    "<a id=\"18\"></a>\n",
    "## Embarked -- Sex -- Pclass -- Survived"
   ]
  },
  {
   "cell_type": "code",
   "execution_count": 36,
   "id": "205f5973",
   "metadata": {
    "execution": {
     "iopub.execute_input": "2024-12-03T13:31:03.763013Z",
     "iopub.status.busy": "2024-12-03T13:31:03.762568Z",
     "iopub.status.idle": "2024-12-03T13:31:05.737388Z",
     "shell.execute_reply": "2024-12-03T13:31:05.736092Z"
    },
    "papermill": {
     "duration": 2.000829,
     "end_time": "2024-12-03T13:31:05.740341",
     "exception": false,
     "start_time": "2024-12-03T13:31:03.739512",
     "status": "completed"
    },
    "tags": []
   },
   "outputs": [
    {
     "data": {
      "image/png": "[encoded data removed]",
      "text/plain": [
       "<Figure size 398x900 with 3 Axes>"
      ]
     },
     "metadata": {},
     "output_type": "display_data"
    }
   ],
   "source": [
    "g = sns.FacetGrid(train_df, row = \"Embarked\")\n",
    "g.map(sns.pointplot, \"Pclass\",\"Survived\",\"Sex\")\n",
    "g.add_legend()\n",
    "plt.show()"
   ]
  },
  {
   "cell_type": "markdown",
   "id": "a80eb8b6",
   "metadata": {
    "papermill": {
     "duration": 0.025479,
     "end_time": "2024-12-03T13:31:05.789137",
     "exception": false,
     "start_time": "2024-12-03T13:31:05.763658",
     "status": "completed"
    },
    "tags": []
   },
   "source": [
    "* Female passengers have much better survival rate than males.\n",
    "* males have better survşval rate in pclass 3 in C.\n",
    "* embarked and sex will be used in training.g."
   ]
  },
  {
   "cell_type": "markdown",
   "id": "0313e9a9",
   "metadata": {
    "papermill": {
     "duration": 0.022277,
     "end_time": "2024-12-03T13:31:05.834118",
     "exception": false,
     "start_time": "2024-12-03T13:31:05.811841",
     "status": "completed"
    },
    "tags": []
   },
   "source": [
    "<a id=\"19\"></a>\n",
    "## Embarked -- Sex -- Fare -- Survived"
   ]
  },
  {
   "cell_type": "code",
   "execution_count": 37,
   "id": "fb3b2775",
   "metadata": {
    "execution": {
     "iopub.execute_input": "2024-12-03T13:31:05.882912Z",
     "iopub.status.busy": "2024-12-03T13:31:05.881759Z",
     "iopub.status.idle": "2024-12-03T13:31:07.864508Z",
     "shell.execute_reply": "2024-12-03T13:31:07.863241Z"
    },
    "papermill": {
     "duration": 2.010693,
     "end_time": "2024-12-03T13:31:07.867609",
     "exception": false,
     "start_time": "2024-12-03T13:31:05.856916",
     "status": "completed"
    },
    "tags": []
   },
   "outputs": [
    {
     "data": {
      "image/png": "[encoded data removed]",
      "text/plain": [
       "<Figure size 611.111x900 with 6 Axes>"
      ]
     },
     "metadata": {},
     "output_type": "display_data"
    }
   ],
   "source": [
    "g = sns.FacetGrid(train_df, row = \"Embarked\", col = \"Survived\")\n",
    "g.map(sns.barplot, \"Sex\", \"Fare\")\n",
    "g.add_legend()\n",
    "plt.show()"
   ]
  },
  {
   "cell_type": "markdown",
   "id": "49c11fab",
   "metadata": {
    "papermill": {
     "duration": 0.023471,
     "end_time": "2024-12-03T13:31:07.914532",
     "exception": false,
     "start_time": "2024-12-03T13:31:07.891061",
     "status": "completed"
    },
    "tags": []
   },
   "source": [
    "* Passsengers who pay higher fare have better survival. Fare can be used as categorical for training.\r\n"
   ]
  },
  {
   "cell_type": "markdown",
   "id": "b7fa3435",
   "metadata": {
    "papermill": {
     "duration": 0.022732,
     "end_time": "2024-12-03T13:31:07.960376",
     "exception": false,
     "start_time": "2024-12-03T13:31:07.937644",
     "status": "completed"
    },
    "tags": []
   },
   "source": [
    "<a id=\"20\"></a>\n",
    "## Fill Missing: Age Feature\r\n"
   ]
  },
  {
   "cell_type": "code",
   "execution_count": 38,
   "id": "636b54e8",
   "metadata": {
    "execution": {
     "iopub.execute_input": "2024-12-03T13:31:08.010334Z",
     "iopub.status.busy": "2024-12-03T13:31:08.009929Z",
     "iopub.status.idle": "2024-12-03T13:31:08.032232Z",
     "shell.execute_reply": "2024-12-03T13:31:08.030731Z"
    },
    "papermill": {
     "duration": 0.050936,
     "end_time": "2024-12-03T13:31:08.034962",
     "exception": false,
     "start_time": "2024-12-03T13:31:07.984026",
     "status": "completed"
    },
    "tags": []
   },
   "outputs": [
    {
     "data": {
      "text/html": [
       "<div>\n",
       "<style scoped>\n",
       "    .dataframe tbody tr th:only-of-type {\n",
       "        vertical-align: middle;\n",
       "    }\n",
       "\n",
       "    .dataframe tbody tr th {\n",
       "        vertical-align: top;\n",
       "    }\n",
       "\n",
       "    .dataframe thead th {\n",
       "        text-align: right;\n",
       "    }\n",
       "</style>\n",
       "<table border=\"1\" class=\"dataframe\">\n",
       "  <thead>\n",
       "    <tr style=\"text-align: right;\">\n",
       "      <th></th>\n",
       "      <th>PassengerId</th>\n",
       "      <th>Survived</th>\n",
       "      <th>Pclass</th>\n",
       "      <th>Name</th>\n",
       "      <th>Sex</th>\n",
       "      <th>Age</th>\n",
       "      <th>SibSp</th>\n",
       "      <th>Parch</th>\n",
       "      <th>Ticket</th>\n",
       "      <th>Fare</th>\n",
       "      <th>Cabin</th>\n",
       "      <th>Embarked</th>\n",
       "    </tr>\n",
       "  </thead>\n",
       "  <tbody>\n",
       "    <tr>\n",
       "      <th>5</th>\n",
       "      <td>6</td>\n",
       "      <td>0.0</td>\n",
       "      <td>3</td>\n",
       "      <td>Moran, Mr. James</td>\n",
       "      <td>male</td>\n",
       "      <td>NaN</td>\n",
       "      <td>0</td>\n",
       "      <td>0</td>\n",
       "      <td>330877</td>\n",
       "      <td>8.4583</td>\n",
       "      <td>NaN</td>\n",
       "      <td>Q</td>\n",
       "    </tr>\n",
       "    <tr>\n",
       "      <th>17</th>\n",
       "      <td>18</td>\n",
       "      <td>1.0</td>\n",
       "      <td>2</td>\n",
       "      <td>Williams, Mr. Charles Eugene</td>\n",
       "      <td>male</td>\n",
       "      <td>NaN</td>\n",
       "      <td>0</td>\n",
       "      <td>0</td>\n",
       "      <td>244373</td>\n",
       "      <td>13.0000</td>\n",
       "      <td>NaN</td>\n",
       "      <td>S</td>\n",
       "    </tr>\n",
       "    <tr>\n",
       "      <th>19</th>\n",
       "      <td>20</td>\n",
       "      <td>1.0</td>\n",
       "      <td>3</td>\n",
       "      <td>Masselmani, Mrs. Fatima</td>\n",
       "      <td>female</td>\n",
       "      <td>NaN</td>\n",
       "      <td>0</td>\n",
       "      <td>0</td>\n",
       "      <td>2649</td>\n",
       "      <td>7.2250</td>\n",
       "      <td>NaN</td>\n",
       "      <td>C</td>\n",
       "    </tr>\n",
       "    <tr>\n",
       "      <th>26</th>\n",
       "      <td>27</td>\n",
       "      <td>0.0</td>\n",
       "      <td>3</td>\n",
       "      <td>Emir, Mr. Farred Chehab</td>\n",
       "      <td>male</td>\n",
       "      <td>NaN</td>\n",
       "      <td>0</td>\n",
       "      <td>0</td>\n",
       "      <td>2631</td>\n",
       "      <td>7.2250</td>\n",
       "      <td>NaN</td>\n",
       "      <td>C</td>\n",
       "    </tr>\n",
       "    <tr>\n",
       "      <th>27</th>\n",
       "      <td>29</td>\n",
       "      <td>1.0</td>\n",
       "      <td>3</td>\n",
       "      <td>O'Dwyer, Miss. Ellen \"Nellie\"</td>\n",
       "      <td>female</td>\n",
       "      <td>NaN</td>\n",
       "      <td>0</td>\n",
       "      <td>0</td>\n",
       "      <td>330959</td>\n",
       "      <td>7.8792</td>\n",
       "      <td>NaN</td>\n",
       "      <td>Q</td>\n",
       "    </tr>\n",
       "    <tr>\n",
       "      <th>...</th>\n",
       "      <td>...</td>\n",
       "      <td>...</td>\n",
       "      <td>...</td>\n",
       "      <td>...</td>\n",
       "      <td>...</td>\n",
       "      <td>...</td>\n",
       "      <td>...</td>\n",
       "      <td>...</td>\n",
       "      <td>...</td>\n",
       "      <td>...</td>\n",
       "      <td>...</td>\n",
       "      <td>...</td>\n",
       "    </tr>\n",
       "    <tr>\n",
       "      <th>1289</th>\n",
       "      <td>1300</td>\n",
       "      <td>NaN</td>\n",
       "      <td>3</td>\n",
       "      <td>Riordan, Miss. Johanna Hannah\"\"</td>\n",
       "      <td>female</td>\n",
       "      <td>NaN</td>\n",
       "      <td>0</td>\n",
       "      <td>0</td>\n",
       "      <td>334915</td>\n",
       "      <td>7.7208</td>\n",
       "      <td>NaN</td>\n",
       "      <td>Q</td>\n",
       "    </tr>\n",
       "    <tr>\n",
       "      <th>1291</th>\n",
       "      <td>1302</td>\n",
       "      <td>NaN</td>\n",
       "      <td>3</td>\n",
       "      <td>Naughton, Miss. Hannah</td>\n",
       "      <td>female</td>\n",
       "      <td>NaN</td>\n",
       "      <td>0</td>\n",
       "      <td>0</td>\n",
       "      <td>365237</td>\n",
       "      <td>7.7500</td>\n",
       "      <td>NaN</td>\n",
       "      <td>Q</td>\n",
       "    </tr>\n",
       "    <tr>\n",
       "      <th>1294</th>\n",
       "      <td>1305</td>\n",
       "      <td>NaN</td>\n",
       "      <td>3</td>\n",
       "      <td>Spector, Mr. Woolf</td>\n",
       "      <td>male</td>\n",
       "      <td>NaN</td>\n",
       "      <td>0</td>\n",
       "      <td>0</td>\n",
       "      <td>A.5. 3236</td>\n",
       "      <td>8.0500</td>\n",
       "      <td>NaN</td>\n",
       "      <td>S</td>\n",
       "    </tr>\n",
       "    <tr>\n",
       "      <th>1297</th>\n",
       "      <td>1308</td>\n",
       "      <td>NaN</td>\n",
       "      <td>3</td>\n",
       "      <td>Ware, Mr. Frederick</td>\n",
       "      <td>male</td>\n",
       "      <td>NaN</td>\n",
       "      <td>0</td>\n",
       "      <td>0</td>\n",
       "      <td>359309</td>\n",
       "      <td>8.0500</td>\n",
       "      <td>NaN</td>\n",
       "      <td>S</td>\n",
       "    </tr>\n",
       "    <tr>\n",
       "      <th>1298</th>\n",
       "      <td>1309</td>\n",
       "      <td>NaN</td>\n",
       "      <td>3</td>\n",
       "      <td>Peter, Master. Michael J</td>\n",
       "      <td>male</td>\n",
       "      <td>NaN</td>\n",
       "      <td>1</td>\n",
       "      <td>1</td>\n",
       "      <td>2668</td>\n",
       "      <td>22.3583</td>\n",
       "      <td>NaN</td>\n",
       "      <td>C</td>\n",
       "    </tr>\n",
       "  </tbody>\n",
       "</table>\n",
       "<p>256 rows × 12 columns</p>\n",
       "</div>"
      ],
      "text/plain": [
       "      PassengerId  Survived  Pclass                             Name     Sex  \\\n",
       "5               6       0.0       3                 Moran, Mr. James    male   \n",
       "17             18       1.0       2     Williams, Mr. Charles Eugene    male   \n",
       "19             20       1.0       3          Masselmani, Mrs. Fatima  female   \n",
       "26             27       0.0       3          Emir, Mr. Farred Chehab    male   \n",
       "27             29       1.0       3    O'Dwyer, Miss. Ellen \"Nellie\"  female   \n",
       "...           ...       ...     ...                              ...     ...   \n",
       "1289         1300       NaN       3  Riordan, Miss. Johanna Hannah\"\"  female   \n",
       "1291         1302       NaN       3           Naughton, Miss. Hannah  female   \n",
       "1294         1305       NaN       3               Spector, Mr. Woolf    male   \n",
       "1297         1308       NaN       3              Ware, Mr. Frederick    male   \n",
       "1298         1309       NaN       3         Peter, Master. Michael J    male   \n",
       "\n",
       "      Age  SibSp  Parch     Ticket     Fare Cabin Embarked  \n",
       "5     NaN      0      0     330877   8.4583   NaN        Q  \n",
       "17    NaN      0      0     244373  13.0000   NaN        S  \n",
       "19    NaN      0      0       2649   7.2250   NaN        C  \n",
       "26    NaN      0      0       2631   7.2250   NaN        C  \n",
       "27    NaN      0      0     330959   7.8792   NaN        Q  \n",
       "...   ...    ...    ...        ...      ...   ...      ...  \n",
       "1289  NaN      0      0     334915   7.7208   NaN        Q  \n",
       "1291  NaN      0      0     365237   7.7500   NaN        Q  \n",
       "1294  NaN      0      0  A.5. 3236   8.0500   NaN        S  \n",
       "1297  NaN      0      0     359309   8.0500   NaN        S  \n",
       "1298  NaN      1      1       2668  22.3583   NaN        C  \n",
       "\n",
       "[256 rows x 12 columns]"
      ]
     },
     "execution_count": 38,
     "metadata": {},
     "output_type": "execute_result"
    }
   ],
   "source": [
    "train_df[train_df[\"Age\"].isnull()]"
   ]
  }
 ],
 "metadata": {
  "kaggle": {
   "accelerator": "none",
   "dataSources": [
    {
     "databundleVersionId": 26502,
     "sourceId": 3136,
     "sourceType": "competition"
    }
   ],
   "dockerImageVersionId": 30786,
   "isGpuEnabled": false,
   "isInternetEnabled": false,
   "language": "python",
   "sourceType": "notebook"
  },
  "kernelspec": {
   "display_name": "Python 3",
   "language": "python",
   "name": "python3"
  },
  "language_info": {
   "codemirror_mode": {
    "name": "ipython",
    "version": 3
   },
   "file_extension": ".py",
   "mimetype": "text/x-python",
   "name": "python",
   "nbconvert_exporter": "python",
   "pygments_lexer": "ipython3",
   "version": "3.10.14"
  },
  "papermill": {
   "default_parameters": {},
   "duration": 21.954489,
   "end_time": "2024-12-03T13:31:08.984024",
   "environment_variables": {},
   "exception": null,
   "input_path": "__notebook__.ipynb",
   "output_path": "__notebook__.ipynb",
   "parameters": {},
   "start_time": "2024-12-03T13:30:47.029535",
   "version": "2.6.0"
  }
 },
 "nbformat": 4,
 "nbformat_minor": 5
}
